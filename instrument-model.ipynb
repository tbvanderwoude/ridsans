{
 "cells": [
  {
   "cell_type": "code",
   "execution_count": 2,
   "metadata": {},
   "outputs": [],
   "source": [
    "import numpy as np\n",
    "import matplotlib.pyplot as plt"
   ]
  },
  {
   "cell_type": "code",
   "execution_count": null,
   "metadata": {},
   "outputs": [],
   "source": [
    "\n",
    "W_eff = 0.165 # m\n",
    "N_pixels_eff = 600\n",
    "pixel_size = W_eff / N_pixels_eff # m\n",
    "print(f\"Pixel size: {pixel_size} m\")"
   ]
  },
  {
   "cell_type": "code",
   "execution_count": null,
   "metadata": {},
   "outputs": [],
   "source": [
    "0.000275 / 2"
   ]
  },
  {
   "cell_type": "code",
   "execution_count": null,
   "metadata": {},
   "outputs": [],
   "source": [
    "N_pixels = 1024\n",
    "W = pixel_size * N_pixels\n",
    "print(f\"Full width: {W} m\")"
   ]
  },
  {
   "cell_type": "code",
   "execution_count": null,
   "metadata": {},
   "outputs": [],
   "source": [
    "# Compute pixel centers\n",
    "def compute_unit_centers(width, unit_width, unit_count):\n",
    "    return unit_width/2 + np.arange(0,unit_count) * unit_width - width/2\n",
    "pixel_x = compute_unit_centers(W,pixel_size, N_pixels)\n",
    "pixel_x"
   ]
  },
  {
   "cell_type": "code",
   "execution_count": null,
   "metadata": {},
   "outputs": [],
   "source": [
    "W_32strip = W / 32\n",
    "unit_32strip = pixel_size * 32\n",
    "strips_x = compute_unit_centers(W,unit_32strip, 32)\n",
    "strips_x"
   ]
  },
  {
   "cell_type": "code",
   "execution_count": null,
   "metadata": {},
   "outputs": [],
   "source": [
    "W_32strip = W / 32\n",
    "strip_pixel_x = compute_unit_centers(W_32strip,pixel_size, 32)\n",
    "strip_pixel_x"
   ]
  },
  {
   "cell_type": "code",
   "execution_count": null,
   "metadata": {},
   "outputs": [],
   "source": [
    "for i in range(1,32+1):\n",
    "    print(r'<location name=\"pixel'+str(i)+r'\" x=\"'+str(round(strip_pixel_x[i-1],12))+'\"/>')"
   ]
  },
  {
   "cell_type": "code",
   "execution_count": null,
   "metadata": {},
   "outputs": [],
   "source": [
    "for i in range(1,32+1):\n",
    "    print(r'<location name=\"horstrip'+str(i)+r'\" x=\"'+str(round(strips_x[i-1],12))+'\"/>')"
   ]
  },
  {
   "cell_type": "code",
   "execution_count": null,
   "metadata": {},
   "outputs": [],
   "source": [
    "for i in range(1,32+1):\n",
    "    print(r'<location name=\"horline'+str(i)+r'\" y=\"'+str(round(strip_pixel_x[i-1],12))+'\"/>')"
   ]
  },
  {
   "cell_type": "code",
   "execution_count": null,
   "metadata": {},
   "outputs": [],
   "source": [
    "for i in range(1,32+1):\n",
    "    print(r'<location name=\"linegroup'+str(i)+r'\" y=\"'+str(round(strips_x[i-1],12))+'\"/>')"
   ]
  },
  {
   "cell_type": "code",
   "execution_count": null,
   "metadata": {},
   "outputs": [],
   "source": []
  }
 ],
 "metadata": {
  "kernelspec": {
   "display_name": "mantid_env",
   "language": "python",
   "name": "python3"
  },
  "language_info": {
   "codemirror_mode": {
    "name": "ipython",
    "version": 3
   },
   "file_extension": ".py",
   "mimetype": "text/x-python",
   "name": "python",
   "nbconvert_exporter": "python",
   "pygments_lexer": "ipython3",
   "version": "3.10.15"
  }
 },
 "nbformat": 4,
 "nbformat_minor": 2
}
