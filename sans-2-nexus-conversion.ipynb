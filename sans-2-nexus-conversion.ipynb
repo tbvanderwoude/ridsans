{
 "cells": [
  {
   "cell_type": "code",
   "execution_count": 12,
   "metadata": {},
   "outputs": [],
   "source": [
    "from nexusformat.nexus import *"
   ]
  },
  {
   "cell_type": "markdown",
   "metadata": {},
   "source": [
    "## Loading an existing NeXuS sample file"
   ]
  },
  {
   "cell_type": "code",
   "execution_count": 13,
   "metadata": {},
   "outputs": [],
   "source": [
    "a=nxload('data/SANSLOQCan2D.nxs')"
   ]
  },
  {
   "cell_type": "code",
   "execution_count": null,
   "metadata": {},
   "outputs": [],
   "source": [
    "print(a.tree)"
   ]
  },
  {
   "cell_type": "markdown",
   "metadata": {},
   "source": [
    "## Minimal new NeXuS file"
   ]
  },
  {
   "cell_type": "code",
   "execution_count": 15,
   "metadata": {},
   "outputs": [],
   "source": [
    "import numpy as np\n",
    "\n",
    "x=y=np.linspace(0,2*np.pi,101)\n",
    "X,Y=np.meshgrid(x,y)\n",
    "z=np.sin(X)*np.sin(Y)\n",
    "a=NXdata(z,[y,x])\n",
    "# a.save('function.nxs')"
   ]
  },
  {
   "cell_type": "code",
   "execution_count": null,
   "metadata": {},
   "outputs": [],
   "source": [
    "b=nxload('function.nxs')\n",
    "print(b.tree)"
   ]
  },
  {
   "cell_type": "markdown",
   "metadata": {},
   "source": [
    "## Converting SANS-2 data to NeXuS"
   ]
  },
  {
   "cell_type": "code",
   "execution_count": null,
   "metadata": {},
   "outputs": [],
   "source": [
    "# List of parameters to extract from current file and input into the new structure\n",
    "# TODO: load these from original file, perhaps add a conversion function to existing class\n",
    "\n",
    "detector_data = np.random.random_integers(0, 100, (1024,1024))\n",
    "wavelength = 6.0 # AA\n",
    "wavelength_spread = 0.1 # delta_L/L0\n",
    "detector_sample_dist = 4 # m\n",
    "w = 0.5 # m\n",
    "h = 0.5 # m\n",
    "N_pixel_x = 1024\n",
    "N_pixel_y = 1024\n",
    "x_pixel_size = w/N_pixel_x\n",
    "y_pixel_size = h/N_pixel_y"
   ]
  },
  {
   "cell_type": "code",
   "execution_count": null,
   "metadata": {},
   "outputs": [],
   "source": [
    "from sansdata import *\n",
    "sample = SansData('data/memb_BS_Q1_6_0Ang.mpa')"
   ]
  },
  {
   "cell_type": "code",
   "execution_count": 23,
   "metadata": {},
   "outputs": [],
   "source": [
    "detector_data = sample.raw_intensity\n",
    "wavelength = round(sample.L0,4)\n",
    "wavelength_spread = 0.1\n",
    "detector_sample_dist = sample.d\n",
    "# Original code seems to have a different pixel size on each axis\n",
    "# Verify that this is correct and where this is coming from\n",
    "pixel_size = 0.5 / 1024\n",
    "x_pixel_size = pixel_size\n",
    "y_pixel_size = pixel_size"
   ]
  },
  {
   "cell_type": "code",
   "execution_count": null,
   "metadata": {},
   "outputs": [],
   "source": [
    "# Should conform to a minimal version of the NXsas application definition as specified in\n",
    "# https://manual.nexusformat.org/classes/applications/NXsas.html\n",
    "\n",
    "source = NXsource(type = 'Reactor Neutron Source', probe = 'neutron')\n",
    "monochromator = NXmonochromator(wavelength=NXfield(wavelength, units='angstrom'), wavelength_spread=wavelength_spread)\n",
    "detector = NXdetector(data=detector_data, distance=NXfield(detector_sample_dist, units='m'), x_pixel_size=NXfield(x_pixel_size, units='m'), y_pixel_size=NXfield(y_pixel_size, units='m'))\n",
    "instr = NXinstrument(name = 'SANS-2', SOURCE=source, MONOCHROMATOR=monochromator, DETECTOR=detector)\n",
    "# TODO: add collimator \n",
    "data = NXdata()\n",
    "data['@signal'] = 'data'\n",
    "entry = NXentry(definition = 'NXsas', INSTRUMENT=instr, DATA=data)\n",
    "entry['DATA/data']=NXlink(entry['INSTRUMENT/DETECTOR/data'])\n",
    "print(entry.tree)"
   ]
  },
  {
   "cell_type": "code",
   "execution_count": null,
   "metadata": {},
   "outputs": [],
   "source": [
    "entry.save('sans-2-RID.nxs', mode='w+')"
   ]
  },
  {
   "cell_type": "code",
   "execution_count": null,
   "metadata": {},
   "outputs": [],
   "source": [
    "b=nxload('sans-2-RID.nxs')\n",
    "print(b.tree)"
   ]
  }
 ],
 "metadata": {
  "kernelspec": {
   "display_name": "mantid_env",
   "language": "python",
   "name": "python3"
  },
  "language_info": {
   "codemirror_mode": {
    "name": "ipython",
    "version": 3
   },
   "file_extension": ".py",
   "mimetype": "text/x-python",
   "name": "python",
   "nbconvert_exporter": "python",
   "pygments_lexer": "ipython3",
   "version": "3.10.15"
  }
 },
 "nbformat": 4,
 "nbformat_minor": 2
}
