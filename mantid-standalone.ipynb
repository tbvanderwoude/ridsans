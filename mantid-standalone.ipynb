{
 "cells": [
  {
   "cell_type": "code",
   "execution_count": null,
   "metadata": {},
   "outputs": [],
   "source": [
    "import matplotlib.pyplot as plt\n",
    "from mantid.plots.utility import MantidAxType\n",
    "import numpy as np\n",
    "from matplotlib.colors import LogNorm\n",
    "from matplotlib.ticker import LogLocator\n",
    "from mantid.api import AnalysisDataService as ADS\n",
    "from mantid.simpleapi import *\n",
    "\n",
    "# From the tutorial here:\n",
    "# https://docs.mantidproject.org/nightly/tutorials/mantid_basic_course/loading_and_displaying_data/07_exercises.html#exercises\n",
    "Load(Filename='data/SANSLOQCan2D.nxs', OutputWorkspace='SANSLOQCan2D')\n",
    "SANSLOQCan2D = ADS.retrieve('SANSLOQCan2D')\n",
    "\n",
    "fig, axes = plt.subplots(edgecolor='#ffffff', figsize=[8.0, 7.0], num='Cross section (1/cm)', subplot_kw={'projection': 'mantid'})\n",
    "cfill = axes.imshow(SANSLOQCan2D, aspect='auto', cmap='jet_r', distribution=False, interpolation='sinc', label='_child0', origin='lower')\n",
    "cfill.set_norm(LogNorm(vmin=1.0, vmax=64.42979069945649))\n",
    "# If no ticks appear on the color bar remove the subs argument inside the LogLocator below\n",
    "cbar = fig.colorbar(cfill, ax=[axes], ticks=LogLocator(subs=np.arange(1, 10)), pad=0.06)\n",
    "cbar.set_label('Cross Section (1/cm)')\n",
    "axes.tick_params(axis='x', which='major', **{'gridOn': False, 'tick1On': True, 'tick2On': False, 'label1On': True, 'label2On': False})\n",
    "axes.tick_params(axis='y', which='major', **{'gridOn': False, 'tick1On': True, 'tick2On': False, 'label1On': True, 'label2On': False})\n",
    "axes.set_title('Cross section (1/cm)')\n",
    "axes.set_xlabel('q ($\\\\AA^{-1}$)')\n",
    "axes.set_ylabel('q ($\\\\AA^{-1}$)')\n",
    "axes.set_xlim([-0.1, 0.1])\n",
    "axes.set_ylim([-0.1, 0.1])\n",
    "\n",
    "fig.show()\n",
    "# Use plt.show() if running the script outside of Workbench\n",
    "#plt.show()\n",
    "# Scripting Plots in Mantid:\n",
    "# https://docs.mantidproject.org/tutorials/python_in_mantid/plotting/02_scripting_plots.html"
   ]
  }
 ],
 "metadata": {
  "kernelspec": {
   "display_name": "mantid_env",
   "language": "python",
   "name": "python3"
  },
  "language_info": {
   "codemirror_mode": {
    "name": "ipython",
    "version": 3
   },
   "file_extension": ".py",
   "mimetype": "text/x-python",
   "name": "python",
   "nbconvert_exporter": "python",
   "pygments_lexer": "ipython3",
   "version": "3.10.15"
  }
 },
 "nbformat": 4,
 "nbformat_minor": 2
}
