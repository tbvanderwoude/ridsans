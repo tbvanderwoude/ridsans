{
 "cells": [
  {
   "cell_type": "code",
   "execution_count": null,
   "id": "005d78a4-2167-4112-b3ce-e821c3b8ff53",
   "metadata": {},
   "outputs": [],
   "source": [
    "import matplotlib.pyplot as plt\n",
    "import numpy as np"
   ]
  },
  {
   "cell_type": "markdown",
   "id": "71569b5c-f061-4942-86f3-a8673bf103fc",
   "metadata": {},
   "source": [
    "# SANS resolution estimate"
   ]
  },
  {
   "cell_type": "markdown",
   "id": "f67d0c08-e9f2-4f63-a07f-cb60a2143087",
   "metadata": {},
   "source": [
    "In the small-angle limit, the basic quantity measured in a SANS instrument is the wavevector transfer\n",
    "$$Q = \\frac{4 \\pi}{\\lambda}\\sin(\\theta/2)\\approx \\frac{2\\pi}{\\lambda}\\theta = k\\theta$$\n",
    "Here the angle between the incoming wavevector $k_i$ and the outgoing wavevector $k_f$ is $\\theta$. Note that this differs from the $2\\theta$ convention often used."
   ]
  },
  {
   "cell_type": "markdown",
   "id": "2716a6f2-3780-4f6d-bf9b-a5906c77b125",
   "metadata": {},
   "source": [
    "Some key instrument factors that need to be factored in when determining the SANS resolution are\n",
    "- Wavelength distribution $f(\\lambda)$\n",
    "- Detector resolution, which is a function of\n",
    "  - Pixel size\n",
    "  - Wiring of detector\n",
    "  - Possible scattering in layers (metal etc.) between vacuum chamber and detector gas/pixels\n",
    "- Beam divergence distribution $f(\\theta_{d})$\n",
    "- Beam cross-section size\n",
    "\n",
    "Another factor is the sample thickness $t$ (i.e. multiple scattering). This is hard to take into account and in practice for SANS as a technique to work, $t$ needs to be sufficiently small compared to $\\Sigma$ so that multiple scattering can be neglected."
   ]
  },
  {
   "cell_type": "markdown",
   "id": "bd0a2087",
   "metadata": {},
   "source": [
    "# 0. Preliminary definitions"
   ]
  },
  {
   "cell_type": "code",
   "execution_count": null,
   "id": "1532fb0d",
   "metadata": {},
   "outputs": [],
   "source": [
    "FZZ_map = {\"Q1\": 9742.34272, \"Q2\": 7427.9968, \"Q3\": 3422.98528, \"Q4\": 1432.00036}\n",
    "sample_distances = (np.array(list(FZZ_map.values()))  + 1320) / 1e3\n",
    "print(sample_distances)\n",
    "half_height = 0.60 / 2 # m\n",
    "\n",
    "def Q_from_theta(wavelength, theta):\n",
    "    return 4*np.pi/wavelength*np.tan(theta/2)"
   ]
  },
  {
   "cell_type": "markdown",
   "id": "0a2d5c43-a96a-43ef-8ed8-6439dbe4a24d",
   "metadata": {},
   "source": [
    "## 1. $f(\\lambda)$"
   ]
  },
  {
   "cell_type": "markdown",
   "id": "c9d3e6b4-2c89-4161-b576-e2af39f82384",
   "metadata": {},
   "source": [
    "Per the formula for $Q$, the distribution of wavelengths $\\lambda$ can be expected to give a $\\theta$-dependent resolution. As a rule, the error in $Q$ is linear in $\\theta$ and as is the nominal value in the small-angle limit. "
   ]
  },
  {
   "cell_type": "code",
   "execution_count": null,
   "id": "51859b07-43af-4aa6-8549-9130ad9e1e31",
   "metadata": {},
   "outputs": [],
   "source": [
    "wavelength = 4 # AA\n",
    "# dlambda of velocity selector\n",
    "dlambda = 0.05 * wavelength # AA"
   ]
  },
  {
   "cell_type": "code",
   "execution_count": null,
   "id": "ea784e76",
   "metadata": {},
   "outputs": [],
   "source": [
    "for d in sample_distances:\n",
    "    max_angle = np.arctan(half_height/d) # rad\n",
    "    max_angle_degrees = max_angle / (2 * np.pi) * 360 # deg\n",
    "    print(max_angle, max_angle_degrees)\n",
    "    angles = np.linspace(0, max_angle, 1000)\n",
    "    min_lambda = wavelength - dlambda/2\n",
    "    max_lambda = wavelength + dlambda/2\n",
    "\n",
    "    max_Q = Q_from_theta(min_lambda,angles)\n",
    "    min_Q = Q_from_theta(max_lambda,angles)\n",
    "    Q_nominal = Q_from_theta(wavelength,angles)\n",
    "    delta_Q = max_Q - min_Q\n",
    "    plt.subplot(1,2,1)\n",
    "\n",
    "    plt.plot(angles, delta_Q)\n",
    "    plt.subplot(1,2,2)\n",
    "    plt.plot(angles, Q_nominal)\n",
    "    plt.show()"
   ]
  },
  {
   "cell_type": "markdown",
   "id": "40aaf0c7",
   "metadata": {},
   "source": [
    "# 2. Detector characteristics"
   ]
  },
  {
   "cell_type": "markdown",
   "id": "28447052",
   "metadata": {},
   "source": [
    "The per pixel resolution is determined by the solid angle $d\\Omega \\approx dA/L^2$ it takes up, which is a function of the distance from the sample $L$ and area $dA$."
   ]
  },
  {
   "cell_type": "code",
   "execution_count": null,
   "id": "a0e30afb",
   "metadata": {},
   "outputs": [],
   "source": [
    "pixel_size = 0.001056338028169014 # m\n",
    "pixel_area = pixel_size ** 2 # m2\n",
    "for d in sample_distances:\n",
    "    dOmega = pixel_area / d**2\n",
    "    print(d,dOmega)"
   ]
  },
  {
   "cell_type": "markdown",
   "id": "46c07561",
   "metadata": {},
   "source": [
    "In an isotropic setting, the detector integrates radially and the true quantity of interest is $d\\theta$, the angle element scattered into the pixel. This is found by $d\\Omega \\approx dh/L$ with $dh$ the pixel height. This means that as far as the pixels are concerned, in small angle approximation the angular resolution is constant for $\\theta$."
   ]
  },
  {
   "cell_type": "code",
   "execution_count": null,
   "id": "66119405",
   "metadata": {},
   "outputs": [],
   "source": [
    "for d in sample_distances:\n",
    "    dtheta = pixel_size / d\n",
    "    print(d,dtheta)\n",
    "    max_angle = np.arctan(half_height/d) # rad"
   ]
  },
  {
   "cell_type": "code",
   "execution_count": null,
   "id": "5909e7f2",
   "metadata": {},
   "outputs": [],
   "source": [
    "for d in sample_distances:\n",
    "    dtheta = pixel_size / d\n",
    "    dtheta_min = pixel_size / (np.sqrt(d**2 + half_height**2))\n",
    "    print(d,dtheta,dtheta_min)\n",
    "    max_angle = np.arctan(half_height/d) # rad\n",
    "    dtheta_min = pixel_size / (d * np.cos(max_angle))\n",
    "    print(dtheta_min)"
   ]
  },
  {
   "cell_type": "markdown",
   "id": "336e413d",
   "metadata": {},
   "source": [
    "## 3. Translating the wavelength distribution to a rebinning"
   ]
  },
  {
   "cell_type": "markdown",
   "id": "9d4a2f0c",
   "metadata": {},
   "source": [
    "There are two resolution expressions: the resolution due to wavelength decreases as the angle $\\theta$ increases. As far as the pixels are concerned, the angular resolution is more or less constant as function $\\theta$, the only deviations being proportional to the small-angle error. What remains is to estimate how for typical $\\theta$ values, the error of about $5$\\% in $Q$ can be translated to a rebinning to match this."
   ]
  },
  {
   "cell_type": "code",
   "execution_count": null,
   "id": "0254e142",
   "metadata": {},
   "outputs": [],
   "source": [
    "for d in sample_distances:\n",
    "    max_angle = np.arctan(half_height/d) # rad\n",
    "    max_angle_degrees = max_angle / (2 * np.pi) * 360 # deg\n",
    "    print(max_angle, max_angle_degrees)\n",
    "    angles = np.linspace(0, max_angle, 1000)\n",
    "\n",
    "    dtheta = pixel_size / d\n",
    "    half_angle = max_angle / 2\n",
    "    # Equivalent error from wavelength\n",
    "    d_half_angle = 0.05 * angles\n",
    "    print(\"Distance, dtheta and max_angle\")\n",
    "    print(d, dtheta, max_angle)\n",
    "    plt.plot(angles,d_half_angle/dtheta)\n",
    "    plt.ylabel(r'$u_\\theta/d\\theta_{pixel}$')\n",
    "    plt.xlabel(r'$\\theta$ [rad]')\n",
    "    plt.grid()\n",
    "    plt.show()"
   ]
  },
  {
   "cell_type": "markdown",
   "id": "bc21ab92",
   "metadata": {},
   "source": [
    "Translating the uncertainty in wavelength to one in Q shows that the effective resolution curves take the exact same values for every $d$ value: for lower angles, the wavelength uncertainty translates to a resolution of a few bins and for the highest angles, the uncertainty appears to give the equivalent of as much as 14 bins! From this it appears reasonable to rebin as $4\\times 4$ or so, perhaps cutting off the most extreme angles/Q values due to the low resolution and high uncertainty there."
   ]
  },
  {
   "cell_type": "markdown",
   "id": "41e6a313-8eee-4c91-bea1-79064ac85fb1",
   "metadata": {},
   "source": [
    "## X. Notes:\n",
    "The wavelength and divergence distributions are not independent: it seems likely that the shape of the wavelength distribution is in fact a function of not only velocity selector characteristics but also the divergence of the incoming neutrons. This is not relevant for simple resolution estimates but could be a factor if exact expressions for resolution are required. "
   ]
  },
  {
   "cell_type": "markdown",
   "id": "b5e96f87",
   "metadata": {},
   "source": []
  }
 ],
 "metadata": {
  "kernelspec": {
   "display_name": "mantid_env",
   "language": "python",
   "name": "python3"
  },
  "language_info": {
   "codemirror_mode": {
    "name": "ipython",
    "version": 3
   },
   "file_extension": ".py",
   "mimetype": "text/x-python",
   "name": "python",
   "nbconvert_exporter": "python",
   "pygments_lexer": "ipython3",
   "version": "3.10.15"
  }
 },
 "nbformat": 4,
 "nbformat_minor": 5
}
