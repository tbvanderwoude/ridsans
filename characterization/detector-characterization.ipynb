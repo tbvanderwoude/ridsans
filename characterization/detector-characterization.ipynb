{
 "cells": [
  {
   "cell_type": "code",
   "execution_count": null,
   "metadata": {},
   "outputs": [],
   "source": [
    "from ridsans.sansdata import *"
   ]
  },
  {
   "cell_type": "code",
   "execution_count": null,
   "metadata": {},
   "outputs": [],
   "source": [
    "Q = 4\n",
    "sans_file = SansData(\n",
    "    f\"sample-data/transmission_2mm_perspex_boronglass_noBeamstop_Q{Q}.mpa\",\n",
    "    log_process=True,\n",
    "    rebin=False,\n",
    ")\n",
    "\n",
    "\n",
    "def plot_image(data, label):\n",
    "    extent = cropped_extent\n",
    "    plt.imshow(data, cmap=\"viridis\", extent=extent, aspect=\"auto\")\n",
    "    plt.colorbar(label=label)\n",
    "    plt.xlabel(\"x\")\n",
    "    plt.ylabel(\"y\")\n",
    "    plt.grid()\n",
    "    plt.show()"
   ]
  },
  {
   "cell_type": "code",
   "execution_count": null,
   "metadata": {},
   "outputs": [],
   "source": [
    "I = sans_file.I\n",
    "plot_I(I, True)"
   ]
  },
  {
   "cell_type": "code",
   "execution_count": null,
   "metadata": {},
   "outputs": [],
   "source": [
    "I = sans_file.I[250:-250, 250:-250]\n",
    "plot_I(I, True)"
   ]
  },
  {
   "cell_type": "code",
   "execution_count": null,
   "metadata": {},
   "outputs": [],
   "source": [
    "compute_spectrum = lambda x: np.log(\n",
    "    np.abs(np.fft.fftshift(np.fft.fft2(np.fft.fftshift(x))))\n",
    ")\n",
    "compute_inverse = lambda x: np.abs(\n",
    "    np.fft.ifftshift(np.fft.ifft2(np.fft.ifftshift(np.exp(x))))\n",
    ")\n",
    "\n",
    "spectrum = compute_spectrum(sans_file.I)\n",
    "plot_image(spectrum, \"I spectrum\")"
   ]
  },
  {
   "cell_type": "code",
   "execution_count": null,
   "metadata": {},
   "outputs": [],
   "source": [
    "data, label = spectrum, \"I spectrum\"\n",
    "offset = 147\n",
    "x0 = 3 + 233 + active_w_pixels / 2\n",
    "y0 = 0 + 233 + active_w_pixels / 2\n",
    "extent = [233, 233 + active_w_pixels, 233, 233 + active_w_pixels]\n",
    "plt.imshow(data, cmap=\"viridis\", extent=extent, aspect=\"auto\")\n",
    "plt.colorbar(label=label)\n",
    "plt.xlabel(\"x\")\n",
    "plt.ylabel(\"y\")\n",
    "plt.grid()\n",
    "\n",
    "# Add symmetric crosses\n",
    "plt.scatter(x0, y0 + offset, color=\"red\", marker=\"+\", s=100, label=\"Cross 1\")\n",
    "plt.scatter(x0, y0, color=\"green\", marker=\"+\", s=100, label=\"Cross 1\")\n",
    "plt.scatter(x0, y0 - offset, color=\"blue\", marker=\"+\", s=100, label=\"Cross 2\")\n",
    "\n",
    "plt.legend()\n",
    "plt.show()"
   ]
  },
  {
   "cell_type": "code",
   "execution_count": null,
   "metadata": {},
   "outputs": [],
   "source": [
    "def rebin2d(arr, n):\n",
    "    rows, cols = arr.shape\n",
    "    if rows % n != 0 or cols % n != 0:\n",
    "        print(f\"Array dimensions are not divisible by {n}, trimming remainder\")\n",
    "        x_lim = (rows // n) * n\n",
    "        y_lim = (cols // n) * n\n",
    "        arr = arr[:x_lim, :y_lim]\n",
    "    return arr.reshape(rows // n, n, cols // n, n).sum(axis=(1, 3))\n",
    "\n",
    "\n",
    "I_rebin = rebin2d(sans_file.I, 4)\n",
    "plot_I(I_rebin, True)"
   ]
  },
  {
   "cell_type": "markdown",
   "metadata": {},
   "source": [
    "# Generate placeholder efficiency map"
   ]
  },
  {
   "cell_type": "code",
   "execution_count": null,
   "metadata": {},
   "outputs": [],
   "source": [
    "placeholder_efficiency = np.ones((round(active_w_pixels / 4), round(active_w_pixels / 4)), dtype=np.float64)\n",
    "print(placeholder_efficiency)\n",
    "print(placeholder_efficiency.shape)\n",
    "print(placeholder_efficiency.dtype)\n",
    "np.savetxt(\"pixel-efficiency.txt.gz\", placeholder_efficiency)"
   ]
  },
  {
   "cell_type": "code",
   "execution_count": null,
   "metadata": {},
   "outputs": [],
   "source": [
    "568 / 4"
   ]
  },
  {
   "cell_type": "code",
   "execution_count": null,
   "metadata": {},
   "outputs": [],
   "source": [
    "I = I_rebin[20:-20, 20:-20]\n",
    "plot_I(I, True)"
   ]
  },
  {
   "cell_type": "code",
   "execution_count": null,
   "metadata": {},
   "outputs": [],
   "source": [
    "spectrum = compute_spectrum(I_rebin)\n",
    "plot_image(spectrum, \"I spectrum\")"
   ]
  },
  {
   "cell_type": "code",
   "execution_count": null,
   "metadata": {},
   "outputs": [],
   "source": [
    "from scipy.ndimage import gaussian_filter\n",
    "\n",
    "I = sans_file.I\n",
    "dI = sans_file.dI\n",
    "\n",
    "d_rel = dI / I\n",
    "sigma = 3.0  # Standard deviation of the Gaussian kernel\n",
    "# Apply Gaussian smoothing to the data\n",
    "smoothed_data = gaussian_filter(I, sigma=sigma)\n",
    "smoothed_uncertainty = gaussian_filter(dI**2, sigma=sigma)\n",
    "propagated_uncertainty = np.sqrt(dI) + 0.00001\n",
    "plot_I(smoothed_data, True)\n",
    "\n",
    "normalized_I = I / smoothed_data\n",
    "plot_image(normalized_I, \"relative efficiency\")\n",
    "# print(propagated_uncertainty)"
   ]
  },
  {
   "cell_type": "code",
   "execution_count": null,
   "metadata": {},
   "outputs": [],
   "source": [
    "plot_projections(I / smoothed_data)"
   ]
  },
  {
   "cell_type": "code",
   "execution_count": null,
   "metadata": {},
   "outputs": [],
   "source": [
    "from scipy.ndimage import gaussian_filter\n",
    "\n",
    "I = I_rebin\n",
    "dI = np.sqrt(I_rebin)\n",
    "sigma = 1.0  # Standard deviation of the Gaussian kernel\n",
    "# Apply Gaussian smoothing to the data\n",
    "smoothed_data = gaussian_filter(I, sigma=sigma)\n",
    "smoothed_uncertainty = gaussian_filter(dI**2, sigma=sigma)\n",
    "propagated_uncertainty = np.sqrt(dI) + 0.00001\n",
    "plot_I(smoothed_data, True)\n",
    "\n",
    "normalized_I = I / smoothed_data\n",
    "dnormalized_I = dI / smoothed_data\n",
    "plot_image(normalized_I, \"relative efficiency\")\n",
    "# print(propagated_uncertainty)"
   ]
  },
  {
   "cell_type": "code",
   "execution_count": null,
   "metadata": {},
   "outputs": [],
   "source": [
    "# Flatten the 2D image into a 1D array for the histogram\n",
    "flattened_image = normalized_I.ravel()\n",
    "\n",
    "# Compute the number of bins (use the square root of the total number of values as a heuristic)\n",
    "num_bins = int(np.sqrt(flattened_image.size))\n",
    "\n",
    "# Plot the histogram\n",
    "plt.figure(figsize=(8, 6))\n",
    "plt.hist(flattened_image, bins=num_bins, color=\"blue\", alpha=0.7, edgecolor=\"black\")\n",
    "plt.title(\"Histogram of Image Values\")\n",
    "plt.xlabel(\"Value\")\n",
    "plt.ylabel(\"Frequency\")\n",
    "plt.grid(axis=\"y\", linestyle=\"--\", alpha=0.7)\n",
    "plt.xlim(left=0)\n",
    "plt.show()"
   ]
  },
  {
   "cell_type": "code",
   "execution_count": null,
   "metadata": {},
   "outputs": [],
   "source": [
    "# Flatten the 2D image into a 1D array for the histogram\n",
    "flattened_image = normalized_I.ravel()"
   ]
  },
  {
   "cell_type": "code",
   "execution_count": null,
   "metadata": {},
   "outputs": [],
   "source": [
    "plot_projections(I / smoothed_data)"
   ]
  },
  {
   "cell_type": "code",
   "execution_count": null,
   "metadata": {},
   "outputs": [],
   "source": [
    "from scipy.stats import poisson\n",
    "\n",
    "# Parameters\n",
    "lambda_ = 5  # Mean number of events\n",
    "\n",
    "# Compute the Poisson distribution\n",
    "x = np.arange(0, 15)  # Range of values\n",
    "pmf = poisson.pmf(x, lambda_)  # Probability mass function\n",
    "\n",
    "# Plot the distribution\n",
    "plt.bar(x, pmf, alpha=0.6)\n",
    "plt.title(\"Poisson Distribution\")\n",
    "plt.xlabel(\"Number of Events\")\n",
    "plt.ylabel(\"Probability\")\n",
    "plt.show()"
   ]
  },
  {
   "cell_type": "code",
   "execution_count": null,
   "metadata": {},
   "outputs": [],
   "source": [
    "counts = I.ravel()\n",
    "min_c, max_c = np.min(counts), np.max(counts)\n",
    "min_c, max_c"
   ]
  },
  {
   "cell_type": "code",
   "execution_count": null,
   "metadata": {},
   "outputs": [],
   "source": []
  },
  {
   "cell_type": "markdown",
   "metadata": {},
   "source": [
    "# Rebinning"
   ]
  },
  {
   "cell_type": "code",
   "execution_count": null,
   "metadata": {},
   "outputs": [],
   "source": [
    "compute_spectrum = lambda x: np.log(\n",
    "    np.abs(np.fft.fftshift(np.fft.fft2(np.fft.fftshift(x))))\n",
    ")\n",
    "compute_inverse = lambda x: np.abs(\n",
    "    np.fft.ifftshift(np.fft.ifft2(np.fft.ifftshift(np.exp(x))))\n",
    ")\n",
    "\n",
    "spectrum = compute_spectrum(I)\n",
    "normalized_spectrum = compute_spectrum(normalized_I)\n",
    "plot_image(spectrum, \"I spectrum\")\n",
    "plot_image(normalized_spectrum, \"Normalized I spectrum\")"
   ]
  },
  {
   "cell_type": "markdown",
   "metadata": {},
   "source": [
    "## Characterize active detector region dimensions"
   ]
  },
  {
   "cell_type": "code",
   "execution_count": null,
   "metadata": {},
   "outputs": [],
   "source": [
    "# Helper function for indexing a rectangle from an array\n",
    "def rect_slice(center, size):\n",
    "    x, y = center\n",
    "    return (slice(y - size // 2, y + size // 2), slice(x - size // 2, x + size // 2))\n",
    "\n",
    "beamstop_x, beamstop_y = 1024 - 500, 520\n",
    "beamstop_w, beamstop_h = 76, 76\n",
    "flood_intensities_full = sans_file.raw_intensity.astype(float)\n",
    "flood_intensities_full[rect_slice((beamstop_x, beamstop_y), beamstop_w)] = 0\n",
    "flood_intensities = flood_intensities_full\n",
    "nonzero_indices = np.argwhere(flood_intensities_full >= 6)\n",
    "\n",
    "\n",
    "min_x, min_y = nonzero_indices.min(axis=0)\n",
    "max_x, max_y = nonzero_indices.max(axis=0)\n",
    "min_x += 18\n",
    "max_x += 4\n",
    "max_x -= 2\n",
    "min_y -= 2\n",
    "centre_x = (max_x + min_x) / 2\n",
    "centre_y = (max_y + min_y) / 2\n",
    "\n",
    "# The number of bins corresponding to the number of active pixels\n",
    "w = round(active_w_pixels / 4)\n",
    "h = round(active_w_pixels / 4)\n",
    "print(f\"Min x, y: ({min_x}, {min_y})\")\n",
    "print(f\"Max x, y: ({max_x}, {max_y})\")\n",
    "print(f\"Centre x,y: ({centre_x}, {centre_y})\")\n",
    "print(f\"Active pixels W x H: {w} x {h}\")\n",
    "\n",
    "plt.figure()\n",
    "# extent = [550//2, 1024-550//2, 550//2, 1024-550//2]\n",
    "extent = [0, 1024, 0, 1024]\n",
    "plt.imshow(flood_intensities_full, cmap=\"viridis\", extent=extent, aspect=\"auto\")\n",
    "plt.colorbar()\n",
    "plt.xlabel(\"x\")\n",
    "plt.ylabel(\"y\")\n",
    "plt.axvline(min_x, color=\"red\", linestyle=\"--\")\n",
    "plt.axvline(max_x, color=\"red\", linestyle=\"--\")\n",
    "plt.axhline(min_y, color=\"red\", linestyle=\"--\")\n",
    "plt.axhline(max_y, color=\"red\", linestyle=\"--\")\n",
    "plt.grid()\n",
    "plt.show()"
   ]
  },
  {
   "cell_type": "markdown",
   "metadata": {},
   "source": [
    "## Compute pixel sizes and locations"
   ]
  },
  {
   "cell_type": "code",
   "execution_count": null,
   "metadata": {},
   "outputs": [],
   "source": [
    "W_eff = 0.60  # m\n",
    "N_pixels_eff = w\n",
    "pixel_size = W_eff / N_pixels_eff  # m\n",
    "print(f\"Pixel size: {pixel_size} m\")\n",
    "half_pixel = pixel_size / 2\n",
    "print(f\"Half pixel size: {half_pixel} m\")\n",
    "N_pixels = w\n",
    "W = pixel_size * N_pixels\n",
    "print(f\"Full width: {W} m\")"
   ]
  },
  {
   "cell_type": "code",
   "execution_count": null,
   "metadata": {},
   "outputs": [],
   "source": [
    "# Compute pixel centers\n",
    "def compute_unit_centers(width, unit_width, unit_count):\n",
    "    return unit_width / 2 + np.arange(0, unit_count) * unit_width - width / 2\n",
    "\n",
    "\n",
    "pixel_x = compute_unit_centers(W, pixel_size, N_pixels_eff)\n",
    "pixel_x"
   ]
  },
  {
   "cell_type": "markdown",
   "metadata": {},
   "source": [
    "## Generate instrument definition file from template"
   ]
  },
  {
   "cell_type": "code",
   "execution_count": null,
   "metadata": {},
   "outputs": [],
   "source": [
    "file_path = \"RIDSANS_Definition_template.xml\"\n",
    "\n",
    "with open(file_path, \"r\") as file:\n",
    "    file_content = file.read()\n",
    "# print(file_content)"
   ]
  },
  {
   "cell_type": "code",
   "execution_count": null,
   "metadata": {},
   "outputs": [],
   "source": [
    "value_map = {\n",
    "    \"PIXEL_SIZE\": pixel_size,\n",
    "    \"HALF_PIXEL_SIZE\": half_pixel,\n",
    "    \"PIXEL_START_X\": pixel_x[0],\n",
    "    \"PIXEL_START_Y\": pixel_x[0],\n",
    "    \"DETECTOR_PIXELS_X\": N_pixels_eff,\n",
    "    \"DETECTOR_PIXELS_Y\": N_pixels_eff,\n",
    "}\n",
    "for k, v in value_map.items():\n",
    "    file_content = file_content.replace(\"$\" + k, str(v))\n",
    "file_content"
   ]
  },
  {
   "cell_type": "code",
   "execution_count": null,
   "metadata": {},
   "outputs": [],
   "source": [
    "file_path = \"RIDSANS_Definition.xml\"\n",
    "\n",
    "with open(file_path, \"w\") as file:\n",
    "    file.write(file_content)"
   ]
  },
  {
   "cell_type": "markdown",
   "metadata": {},
   "source": [
    "## Instrument definition loading test"
   ]
  },
  {
   "cell_type": "code",
   "execution_count": null,
   "metadata": {},
   "outputs": [],
   "source": [
    "import matplotlib.pyplot as plt\n",
    "import numpy as np\n",
    "from mantid.simpleapi import *\n",
    "\n",
    "# create sample workspace\n",
    "ws1 = CreateSampleWorkspace()\n",
    "inst1 = ws1.getInstrument()\n",
    "print(\n",
    "    \"Default workspace has instrument: {0} with {1} parameters\".format(\n",
    "        inst1.getName(), len(inst1.getParameterNames())\n",
    "    )\n",
    ")\n",
    "ws2 = CreateSampleWorkspace()\n",
    "mon2 = LoadInstrument(ws2, FileName=\"RIDSANS_Definition.xml\", RewriteSpectraMap=True)\n",
    "inst2 = ws2.getInstrument()\n",
    "di2 = ws2.detectorInfo()\n",
    "ci2 = ws2.componentInfo()\n",
    "print(\"Workspace {0} has instrument: {1}\".format(ws2.name(), inst2.getName()))\n",
    "print(\n",
    "    \"Instrument {0} has {1} components, including {2} monitors and {3} detectors\".format(\n",
    "        inst2.getName(), ci2.size(), len(mon2), di2.size()\n",
    "    )\n",
    ")"
   ]
  },
  {
   "cell_type": "markdown",
   "metadata": {},
   "source": [
    "## Compute relative pixel efficiencies from perspex measurement\n",
    "Note: the [DetectorFloodWeighting](https://docs.mantidproject.org/nightly/algorithms/DetectorFloodWeighting-v1.html) algorithm appears to do the same and uses the mean technique rather than an absolute."
   ]
  },
  {
   "cell_type": "code",
   "execution_count": null,
   "metadata": {},
   "outputs": [],
   "source": [
    "# Compute pixel efficiency from flood measurement\n",
    "relative_efficiency = False\n",
    "if relative_efficiency:\n",
    "    # Compensate for the fact that the beamstop square is not considered in the average\n",
    "    area_factor = 1 / (1 - beamstop_w * beamstop_h / N_eff_pixel**2)\n",
    "    print(area_factor)\n",
    "\n",
    "    # Idea: compute relative pixel efficiency based on the average pixel counts over the given area\n",
    "    mu_flood = (\n",
    "        np.mean(flood_intensities[rect_slice((512, 512), N_eff_pixel)]) * area_factor\n",
    "    )\n",
    "    flood_norm = flood_intensities / mu_flood\n",
    "else:\n",
    "    # This assumes that the best pixel has efficiency 1? Also not ideal\n",
    "    max_intensity = np.max(flood_intensities[rect_slice((512, 512), N_eff_pixel)])\n",
    "    flood_norm = flood_intensities / max_intensity\n",
    "    dflood_norm = np.sqrt(flood_intensities) / max_intensity\n",
    "    # flood_norm[flood_norm<=0] = 1\n",
    "    print(\n",
    "        f\"Mean factor: {np.mean(flood_norm[rect_slice((512, 512), N_eff_pixel)])}, mean error {np.mean(dflood_norm[rect_slice((512, 512), N_eff_pixel)])}\"\n",
    "    )\n",
    "\n",
    "plot_image(flood_norm, \"Relative efficiency\")"
   ]
  },
  {
   "cell_type": "markdown",
   "metadata": {},
   "source": [
    "## Plot integrals along $x,y$ to see relevance"
   ]
  },
  {
   "cell_type": "code",
   "execution_count": null,
   "metadata": {},
   "outputs": [],
   "source": [
    "# Integrated over x, function of y\n",
    "proj_y = np.sum(flood_norm, axis=1)\n",
    "y_range = np.arange(0, 1024, 1)\n",
    "plt.plot(y_range, proj_y)\n",
    "plt.show()\n",
    "\n",
    "# Integrated over y, function of x\n",
    "proj_x = np.sum(flood_norm, axis=0)\n",
    "x_range = np.arange(0, 1024, 1)\n",
    "plt.plot(x_range, proj_x)\n",
    "# plt.xlim((400,600))"
   ]
  },
  {
   "cell_type": "markdown",
   "metadata": {},
   "source": [
    "## Histogram of pixel efficiencies\n",
    "Verify that the statistics of efficiencies are reasonable: no extraordinarily high values etc."
   ]
  },
  {
   "cell_type": "code",
   "execution_count": null,
   "metadata": {},
   "outputs": [],
   "source": [
    "# Flatten the 2D array to a 1D array\n",
    "active_flood = flood_norm[rect_slice((512, 512), N_eff_pixel)]\n",
    "flat_array = (active_flood).flatten()\n",
    "\n",
    "# Plot histogram\n",
    "plt.hist(flat_array, bins=36, edgecolor=\"black\")\n",
    "plt.xlabel(\"Pixel efficiency\")\n",
    "plt.ylabel(\"Frequency\")\n",
    "plt.title(\"Histogram of efficiency values\")\n",
    "plt.show()"
   ]
  },
  {
   "cell_type": "markdown",
   "metadata": {},
   "source": [
    "## Synthesize full efficiency map (temporary)\n",
    "Currently, no flood measurement is available that can characterize the full detector so make up the values in the beamstop area for now by copying other values. NOT FOR USE IN ACTUAL DATA REDUCTIONS."
   ]
  },
  {
   "cell_type": "code",
   "execution_count": null,
   "metadata": {},
   "outputs": [],
   "source": [
    "flood_norm_synth = np.copy(flood_norm)\n",
    "offset = 15\n",
    "flood_norm_synth[rect_slice((beamstop_x, beamstop_y), beamstop_w + offset)] = (\n",
    "    flood_norm_synth[\n",
    "        rect_slice(\n",
    "            (beamstop_x, beamstop_y + beamstop_w + offset + 10), beamstop_w + offset\n",
    "        )\n",
    "    ]\n",
    ")\n",
    "plot_image(flood_norm_synth, \"Relative efficiency\")"
   ]
  },
  {
   "cell_type": "code",
   "execution_count": null,
   "metadata": {},
   "outputs": [],
   "source": [
    "np.savetxt(\"pixel-efficiency.txt.gz\", flood_norm_synth[233:801, 233:801])"
   ]
  }
 ],
 "metadata": {
  "kernelspec": {
   "display_name": "mantid_env",
   "language": "python",
   "name": "python3"
  },
  "language_info": {
   "codemirror_mode": {
    "name": "ipython",
    "version": 3
   },
   "file_extension": ".py",
   "mimetype": "text/x-python",
   "name": "python",
   "nbconvert_exporter": "python",
   "pygments_lexer": "ipython3",
   "version": "3.10.15"
  }
 },
 "nbformat": 4,
 "nbformat_minor": 2
}
