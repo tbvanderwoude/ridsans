{
 "cells": [
  {
   "cell_type": "markdown",
   "metadata": {},
   "source": [
    "# Velocity selector characterization\n",
    "\n",
    "The used monochromator is a velocity selector, a mechanical device rotating at a high RPM. The wavelength it selects is a function of its RPM."
   ]
  },
  {
   "cell_type": "code",
   "execution_count": null,
   "metadata": {},
   "outputs": [],
   "source": [
    "import matplotlib.pyplot as plt\n",
    "import numpy as np\n",
    "from scipy.optimize import curve_fit"
   ]
  },
  {
   "cell_type": "code",
   "execution_count": null,
   "metadata": {},
   "outputs": [],
   "source": [
    "# Maps RPM to wavelength\n",
    "rpm = np.array(\n",
    "    [25450, 23100, 21200, 14150, 12700, 11550, 10600, 9750, 9100]\n",
    ")  # from the test data\n",
    "\n",
    "wavelengths = np.array([5.0, 5.5, 6.0, 9.0, 10.0, 11.0, 12.0, 13.0, 14.0])\n",
    "sorted_indices = np.argsort(rpm)\n",
    "sorted_wavelengths = wavelengths[sorted_indices]\n",
    "sorted_rpm = rpm[sorted_indices]\n",
    "\n",
    "\n",
    "# Fits the mapping from RPM to wavelength\n",
    "def rpm_to_lambda0(x, a, b):\n",
    "    return a / x + b\n",
    "\n",
    "\n",
    "popt, _ = curve_fit(rpm_to_lambda0, sorted_rpm, sorted_wavelengths)\n",
    "popt"
   ]
  },
  {
   "cell_type": "code",
   "execution_count": null,
   "metadata": {},
   "outputs": [],
   "source": [
    "# Generate a dense set of RPM values for plotting the fitted curve\n",
    "rpm_dense = np.linspace(sorted_rpm.min(), sorted_rpm.max(), 500)\n",
    "fitted_wavelengths = rpm_to_lambda0(rpm_dense, *popt)\n",
    "\n",
    "# Create the plot\n",
    "plt.figure(figsize=(8, 6))\n",
    "plt.scatter(sorted_rpm, sorted_wavelengths, color=\"red\", label=\"Input Data\")\n",
    "plt.plot(rpm_dense, fitted_wavelengths, color=\"blue\", label=\"Fitted Curve\")\n",
    "plt.xlabel(\"$f_{vs}$ [RPM]\")\n",
    "plt.ylabel(r\"$\\lambda$ [Å]\")\n",
    "plt.title(\"Comparison of Fitted Curve with Input Data\")\n",
    "plt.legend()\n",
    "plt.grid(True)\n",
    "plt.show()"
   ]
  }
 ],
 "metadata": {
  "kernelspec": {
   "display_name": "mantid_env",
   "language": "python",
   "name": "python3"
  },
  "language_info": {
   "codemirror_mode": {
    "name": "ipython",
    "version": 3
   },
   "file_extension": ".py",
   "mimetype": "text/x-python",
   "name": "python",
   "nbconvert_exporter": "python",
   "pygments_lexer": "ipython3",
   "version": "3.10.15"
  }
 },
 "nbformat": 4,
 "nbformat_minor": 2
}
