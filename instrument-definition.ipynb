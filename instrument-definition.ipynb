{
 "cells": [
  {
   "cell_type": "code",
   "execution_count": 1,
   "metadata": {},
   "outputs": [],
   "source": [
    "import numpy as np\n",
    "import matplotlib.pyplot as plt"
   ]
  },
  {
   "cell_type": "code",
   "execution_count": null,
   "metadata": {},
   "outputs": [],
   "source": [
    "W_eff = 0.165 # m\n",
    "N_pixels_eff = 600\n",
    "pixel_size = W_eff / N_pixels_eff # m\n",
    "print(f\"Pixel size: {pixel_size} m\")\n",
    "half_pixel = 0.000275 / 2\n",
    "print(f\"Half pixel size: {pixel_size} m\")\n",
    "N_pixels = 1024\n",
    "W = pixel_size * N_pixels\n",
    "print(f\"Full width: {W} m\")"
   ]
  },
  {
   "cell_type": "code",
   "execution_count": null,
   "metadata": {},
   "outputs": [],
   "source": [
    "# Compute pixel centers\n",
    "def compute_unit_centers(width, unit_width, unit_count):\n",
    "    return unit_width/2 + np.arange(0,unit_count) * unit_width - width/2\n",
    "pixel_x = compute_unit_centers(W,pixel_size, N_pixels)\n",
    "pixel_x"
   ]
  },
  {
   "cell_type": "markdown",
   "metadata": {},
   "source": [
    "## Instrument definition loading test\n"
   ]
  },
  {
   "cell_type": "code",
   "execution_count": null,
   "metadata": {},
   "outputs": [],
   "source": [
    "import matplotlib.pyplot as plt\n",
    "import numpy as np\n",
    "from mantid.simpleapi import *\n",
    "\n",
    "# create sample workspace\n",
    "ws1 = CreateSampleWorkspace();\n",
    "inst1 = ws1.getInstrument();\n",
    "print(\"Default workspace has instrument: {0} with {1} parameters\".format(inst1.getName(),len(inst1.getParameterNames())))\n",
    "ws2 = CreateSampleWorkspace();\n",
    "mon2 = LoadInstrument(ws2, FileName=\"RIDSANS_Definition.xml\", RewriteSpectraMap=True)\n",
    "inst2 = ws2.getInstrument()\n",
    "di2 = ws2.detectorInfo()\n",
    "ci2 = ws2.componentInfo()\n",
    "print(\"Workspace {0} has instrument: {1}\".format(ws2.name(), inst2.getName()))\n",
    "print(\"Instrument {0} has {1} components, including {2} monitors and {3} detectors\".format(inst2.getName(), ci2.size(), len(mon2), di2.size()))"
   ]
  }
 ],
 "metadata": {
  "kernelspec": {
   "display_name": "mantid_env",
   "language": "python",
   "name": "python3"
  },
  "language_info": {
   "codemirror_mode": {
    "name": "ipython",
    "version": 3
   },
   "file_extension": ".py",
   "mimetype": "text/x-python",
   "name": "python",
   "nbconvert_exporter": "python",
   "pygments_lexer": "ipython3",
   "version": "3.10.15"
  }
 },
 "nbformat": 4,
 "nbformat_minor": 2
}
