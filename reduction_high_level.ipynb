{
 "cells": [
  {
   "cell_type": "code",
   "execution_count": null,
   "metadata": {},
   "outputs": [],
   "source": [
    "from load_RIDSANS import *\n",
    "\n",
    "# i = 4\n",
    "\n",
    "background_file = f\"data/old-data/09_07_24_backG_3600s_reactor_on_Fish_on.mpa\"\n",
    "efficiency_file = \"pixel-efficiency.txt.gz\"\n",
    "\n",
    "i_vals = list(range(1,4+1))\n",
    "# i_vals = [3]\n",
    "for i in i_vals:\n",
    "    sample_scatter_file = f\"data/sample1_Q{i}.mpa\"\n",
    "    sample_transmission_file = f\"data/sample_transmission_Q{i}.mpa\"\n",
    "    can_scatter_file = f\"data/sample_empty_cuvette_Q{i}.mpa\"\n",
    "    # I think this translates to direct, not sure\n",
    "    direct_file = f\"data/no_cuvette_transmission_Q{i}.mpa\"\n",
    "\n",
    "    ws_sample, ws_direct, mon, ws_pixel_adj = load_RIDSANS(\n",
    "        sample_scatter_file,\n",
    "        sample_transmission_file,\n",
    "        can_scatter_file,\n",
    "        direct_file,\n",
    "        background_file,\n",
    "        efficiency_file,\n",
    "    )"
   ]
  },
  {
   "cell_type": "code",
   "execution_count": null,
   "metadata": {},
   "outputs": [],
   "source": [
    "from reduce_RIDSANS import *\n",
    "from mantid.api import AnalysisDataService as ADS\n",
    "\n",
    "\n",
    "for i in i_vals:\n",
    "    ws_sample = ADS.retrieve(f\"data/sample1_Q{i}.mpa\")\n",
    "    ws_direct = ADS.retrieve(f\"data/no_cuvette_transmission_Q{i}.mpa\")\n",
    "    ws_pixel_adj = ADS.retrieve(\"PixelAdj\")\n",
    "\n",
    "    reduction_setup_RIDSANS(ws_sample, ws_direct, active_w, active_h,0.025)\n",
    "\n",
    "    reduced_ws_1D = reduce_RIDSANS_1D(ws_sample, ws_pixel_adj, active_w)\n",
    "\n",
    "    Q_axis = np.array(reduced_ws_1D.dataX(0))[:-1]\n",
    "    IQ_array = reduced_ws_1D.dataY(0)\n",
    "    plt.plot(Q_axis, IQ_array,label=f\"Q{i}\")\n",
    "plt.xlabel(r'$Q$ [Å$^{-1}$]')\n",
    "plt.ylabel(r'$I(Q)$ [a.u]')\n",
    "plt.yscale('log')\n",
    "plt.legend()\n",
    "plt.grid()\n",
    "plt.show()"
   ]
  },
  {
   "cell_type": "markdown",
   "metadata": {},
   "source": [
    "Porod's law: for small enough $Q$, \n",
    "$$I(Q) \\propto Q^{-4}$$"
   ]
  },
  {
   "cell_type": "code",
   "execution_count": null,
   "metadata": {},
   "outputs": [],
   "source": []
  },
  {
   "cell_type": "code",
   "execution_count": null,
   "metadata": {},
   "outputs": [],
   "source": [
    "from reduce_RIDSANS import *\n",
    "from mantid.api import AnalysisDataService as ADS\n",
    "\n",
    "active_w = 0.15  # m\n",
    "active_h = 0.15  # m\n",
    "for i in i_vals:\n",
    "    ws_sample = ADS.retrieve(f\"data/sample1_Q{i}.mpa\")\n",
    "    ws_direct = ADS.retrieve(f\"data/no_cuvette_transmission_Q{i}.mpa\")\n",
    "    ws_pixel_adj = ADS.retrieve(\"PixelAdj\")\n",
    "\n",
    "    reduction_setup_RIDSANS(ws_sample, ws_direct, active_w, active_h,0.05)\n",
    "\n",
    "    reduced_ws_2D = reduce_RIDSANS_2D(ws_sample, ws_pixel_adj, active_w)\n",
    "\n",
    "    Q_axis = np.array(reduced_ws_2D.dataX(0))\n",
    "    N_Q_bins = len(Q_axis) - 1\n",
    "    Q_array = np.zeros((N_Q_bins, N_Q_bins))\n",
    "    for i in range(N_Q_bins):\n",
    "        Q_array[i] = reduced_ws_2D.dataY(i)\n",
    "    # Q_axis, Q_array\n",
    "    from matplotlib.colors import LogNorm\n",
    "    # print(Q_array)\n",
    "    extent = [Q_axis[0], Q_axis[-1], Q_axis[0], Q_axis[-1]]\n",
    "    plt.imshow(Q_array, cmap='viridis', extent=extent, norm=LogNorm(),aspect='auto')\n",
    "    plt.colorbar()  # Add a colorbar to show the color scale\n",
    "    plt.xlabel(r'$Q_x$ [Å$^{-1}$]')\n",
    "    plt.ylabel(r'$Q_y$ [Å$^{-1}$]')\n",
    "    plt.xticks(fontsize=8)\n",
    "    plt.axvline(0, linestyle='--', color='red')\n",
    "    plt.axhline(0, linestyle='--', color='red')\n",
    "    plt.yticks(fontsize=8)\n",
    "    plt.show()"
   ]
  },
  {
   "cell_type": "code",
   "execution_count": null,
   "metadata": {},
   "outputs": [],
   "source": []
  }
 ],
 "metadata": {
  "kernelspec": {
   "display_name": "mantid_env",
   "language": "python",
   "name": "python3"
  },
  "language_info": {
   "codemirror_mode": {
    "name": "ipython",
    "version": 3
   },
   "file_extension": ".py",
   "mimetype": "text/x-python",
   "name": "python",
   "nbconvert_exporter": "python",
   "pygments_lexer": "ipython3",
   "version": "3.10.15"
  }
 },
 "nbformat": 4,
 "nbformat_minor": 2
}
