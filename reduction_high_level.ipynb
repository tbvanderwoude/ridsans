{
 "cells": [
  {
   "cell_type": "code",
   "execution_count": null,
   "metadata": {},
   "outputs": [],
   "source": [
    "from load_RIDSANS import *\n",
    "\n",
    "i = 4\n",
    "sample_scatter_file = f\"data/sample1_Q{i}.mpa\"\n",
    "sample_transmission_file = f\"data/sample_transmission_Q{i}.mpa\"\n",
    "can_scatter_file = f\"data/sample_empty_cuvette_Q{i}.mpa\"\n",
    "efficiency_file = \"pixel-efficiency.txt.gz\"\n",
    "# I think this translates to direct, not sure\n",
    "direct_file = f\"data/no_cuvette_transmission_Q{i}.mpa\"\n",
    "\n",
    "background_file = f\"data/old-data/09_07_24_backG_3600s_reactor_on_Fish_on.mpa\"\n",
    "ws_sample, ws_direct, mon, ws_pixel_adj = load_RIDSANS(\n",
    "    sample_scatter_file,\n",
    "    sample_transmission_file,\n",
    "    can_scatter_file,\n",
    "    direct_file,\n",
    "    background_file,\n",
    "    efficiency_file,\n",
    ")"
   ]
  },
  {
   "cell_type": "code",
   "execution_count": null,
   "metadata": {},
   "outputs": [],
   "source": [
    "from reduce_RIDSANS import *\n",
    "from mantid.api import AnalysisDataService as ADS\n",
    "\n",
    "active_w = 0.15  # m\n",
    "active_h = 0.15  # m\n",
    "ws_sample = ADS.retrieve(\"data/sample1_Q4.mpa\")\n",
    "ws_direct = ADS.retrieve(\"data/no_cuvette_transmission_Q4.mpa\")\n",
    "ws_pixel_adj = ADS.retrieve(\"PixelAdj\")\n",
    "\n",
    "reduction_setup_RIDSANS(ws_sample, ws_direct, active_w, active_h)\n",
    "\n",
    "reduced_ws_1D = reduce_RIDSANS_1D(ws_sample, ws_pixel_adj, active_w)\n",
    "\n",
    "Q_axis = np.array(reduced_ws_1D.dataX(0))[:-1]\n",
    "Q_array = reduced_ws_1D.dataY(0)\n",
    "plt.plot(Q_axis, Q_array)\n",
    "plt.xlabel(r'$Q$ [Å$^{-1}$]')\n",
    "plt.ylabel(r'$I(Q)$ [a.u]')\n",
    "plt.yscale('log')\n",
    "plt.grid()"
   ]
  },
  {
   "cell_type": "code",
   "execution_count": null,
   "metadata": {},
   "outputs": [],
   "source": [
    "# Directly get the sample position\n",
    "sample_position = ws_sample.getInstrument().getSample().getPos()\n",
    "\n",
    "# Output the sample position in (x, y, z) coordinates\n",
    "print(f\"Sample position: x = {sample_position.X()}, y = {sample_position.Y()}, z = {sample_position.Z()}\")\n",
    "L_bins = ws_sample.dataX(0)\n",
    "L0 = (L_bins[1] + L_bins[0])/2\n",
    "# max_det_x = 0.140662/2\n",
    "# max_det_y = 0.140662/2\n",
    "ds_dist = -sample_position.Z()\n",
    "r = active_w/2\n",
    "Q_max = 4 * np.pi /  L0 * np.sin(np.arctan(r/(ds_dist)) / 2)\n",
    "Q_max # AA-1\n",
    "delta_Q = 0.0001*2\n",
    "\n",
    "\n",
    "# max_QXY = 0.01\n",
    "# N_Q_bins = int(np.floor(2*Q_max/delta_Q)+2)\n",
    "\n",
    "Qxy(ws_sample,PixelAdj = ws_pixel_adj, SolidAngleWeighting=True,MaxQxy=Q_max, DeltaQ=delta_Q,OutputWorkspace=\"new\",AccountForGravity=True)\n",
    "reduced_ws = ADS.retrieve('new')\n",
    "\n",
    "Q_axis = np.array(reduced_ws.dataX(0))\n",
    "N_Q_bins = len(Q_axis) - 1\n",
    "Q_array = np.zeros((N_Q_bins, N_Q_bins))\n",
    "for i in range(N_Q_bins):\n",
    "    Q_array[i] = reduced_ws.dataY(i)\n",
    "# Q_axis, Q_array\n",
    "from matplotlib.colors import LogNorm\n",
    "# print(Q_array)\n",
    "extent = [Q_axis[0], Q_axis[-1], Q_axis[0], Q_axis[-1]]\n",
    "plt.imshow(Q_array, cmap='viridis', extent=extent, norm=LogNorm(),aspect='auto')  # cmap defines the color map (optional)\n",
    "plt.colorbar()  # Add a colorbar to show the color scale\n",
    "plt.xlabel(r'$Q_x$ [Å$^{-1}$]')\n",
    "plt.ylabel(r'$Q_y$ [Å$^{-1}$]')\n",
    "plt.xticks(fontsize=8)\n",
    "plt.axvline(0, linestyle='--', color='red')\n",
    "plt.axhline(0, linestyle='--', color='red')\n",
    "plt.yticks(fontsize=8)\n",
    "plt.show()"
   ]
  },
  {
   "cell_type": "code",
   "execution_count": null,
   "metadata": {},
   "outputs": [],
   "source": []
  }
 ],
 "metadata": {
  "kernelspec": {
   "display_name": "mantid_env",
   "language": "python",
   "name": "python3"
  },
  "language_info": {
   "codemirror_mode": {
    "name": "ipython",
    "version": 3
   },
   "file_extension": ".py",
   "mimetype": "text/x-python",
   "name": "python",
   "nbconvert_exporter": "python",
   "pygments_lexer": "ipython3",
   "version": "3.10.15"
  }
 },
 "nbformat": 4,
 "nbformat_minor": 2
}
