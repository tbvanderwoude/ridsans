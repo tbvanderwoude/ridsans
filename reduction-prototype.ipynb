{
 "cells": [
  {
   "cell_type": "code",
   "execution_count": null,
   "metadata": {},
   "outputs": [],
   "source": [
    "from sansdata import *"
   ]
  },
  {
   "cell_type": "markdown",
   "metadata": {},
   "source": [
    "# Implementation of reduction from scratch without Mantid\n",
    "Purpose: understanding what needs to be implemented in Mantid as this has some additional overhead (both conceptual and in terms of code)."
   ]
  },
  {
   "cell_type": "code",
   "execution_count": null,
   "metadata": {},
   "outputs": [],
   "source": [
    "sample = SansData(f\"data/memb_BS_Q2_6_0Ang.mpa\")\n",
    "transmission = SansData(f\"data/memb_no_BS_Q2_Boron_8_5Ang.mpa\")\n",
    "\n",
    "# sample = SansData(f\"data/glassyC_BS_Q2_6_0Ang.mpa\")\n",
    "# transmission = SansData(f\"data/glassyC_no_BS_Q2_Boron_8_5Ang.mpa\")\n",
    "\n",
    "background = SansData(f\"data/09_07_24_backG_3600s_reactor_on_Fish_on.mpa\")\n",
    "direct = SansData(f\"data/empty_no_BS_Q2_Boron.mpa\")\n",
    "relative_pixel_efficiency = np.loadtxt('pixel-efficiency.txt.gz')"
   ]
  },
  {
   "cell_type": "code",
   "execution_count": null,
   "metadata": {},
   "outputs": [],
   "source": [
    "sample.plot_2d(True)\n",
    "transmission.plot_2d(True)\n",
    "direct.plot_2d(True)\n",
    "background.plot_2d(True)"
   ]
  },
  {
   "cell_type": "code",
   "execution_count": null,
   "metadata": {},
   "outputs": [],
   "source": [
    "relative_pixel_efficiency[relative_pixel_efficiency == 0] = 1"
   ]
  },
  {
   "cell_type": "code",
   "execution_count": null,
   "metadata": {},
   "outputs": [],
   "source": [
    "# TODO: consider error in efficiency map...\n",
    "I_direct = direct.I/relative_pixel_efficiency\n",
    "dI_direct = direct.dI/relative_pixel_efficiency\n",
    "I_sample = sample.I/relative_pixel_efficiency\n",
    "dI_sample = sample.dI/relative_pixel_efficiency\n",
    "plot_I(I_direct)\n",
    "plot_I(I_sample)"
   ]
  },
  {
   "cell_type": "code",
   "execution_count": null,
   "metadata": {},
   "outputs": [],
   "source": [
    "plot_projections(I_sample)\n",
    "plot_projections(sample.I)"
   ]
  },
  {
   "cell_type": "code",
   "execution_count": null,
   "metadata": {},
   "outputs": [],
   "source": [
    "T_s = sample.I_0 / direct.I_0\n",
    "T_c = 1\n",
    "T_s"
   ]
  },
  {
   "cell_type": "code",
   "execution_count": null,
   "metadata": {},
   "outputs": [],
   "source": [
    "I_corrected = 1/T_s * (sample.I - background.I)\n",
    "# Neglect dT_s\n",
    "dI_corrected = np.sqrt(sample.dI**2 + background.dI**2) / T_s\n",
    "I_corrected"
   ]
  },
  {
   "cell_type": "code",
   "execution_count": null,
   "metadata": {},
   "outputs": [],
   "source": []
  }
 ],
 "metadata": {
  "kernelspec": {
   "display_name": "mantid_env",
   "language": "python",
   "name": "python3"
  },
  "language_info": {
   "codemirror_mode": {
    "name": "ipython",
    "version": 3
   },
   "file_extension": ".py",
   "mimetype": "text/x-python",
   "name": "python",
   "nbconvert_exporter": "python",
   "pygments_lexer": "ipython3",
   "version": "3.10.15"
  }
 },
 "nbformat": 4,
 "nbformat_minor": 2
}
