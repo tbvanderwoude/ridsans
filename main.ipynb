{
 "cells": [
  {
   "cell_type": "markdown",
   "metadata": {},
   "source": [
    "# SANS reduction at RID"
   ]
  },
  {
   "cell_type": "code",
   "execution_count": 2,
   "metadata": {},
   "outputs": [],
   "source": [
    "import numpy as np\n",
    "import matplotlib.pyplot as plt\n",
    "import scipy\n",
    "import matplotlib.colors as mcolors\n",
    "from scipy.optimize import curve_fit\n",
    "from math import pi as pi\n",
    "import re"
   ]
  },
  {
   "cell_type": "markdown",
   "metadata": {},
   "source": [
    "## 1. File processing and basic plotting"
   ]
  },
  {
   "cell_type": "code",
   "execution_count": 1,
   "metadata": {},
   "outputs": [],
   "source": [
    "from sansdata import *"
   ]
  },
  {
   "cell_type": "code",
   "execution_count": null,
   "metadata": {},
   "outputs": [],
   "source": [
    "glassyC_sample = SansData('data/memb_BS_Q1_6_0Ang.mpa')\n",
    "glassyC_sample.plot_integrated_intensity(axis=0, title='Integrated Intensity over X-axis')\n",
    "glassyC_sample.plot_2d()"
   ]
  },
  {
   "cell_type": "markdown",
   "metadata": {},
   "source": [
    "## 2. Automatic beam stop detection using OpenCV\n",
    "The process is as follows:\n",
    "- A threshold is applied to the image\n",
    "- Contours are detected\n",
    "- From these contours, a single minimum area rectangle is fitted"
   ]
  },
  {
   "cell_type": "code",
   "execution_count": null,
   "metadata": {},
   "outputs": [],
   "source": [
    "import cv2\n",
    "# Convert Pillow Image to NumPy array\n",
    "img_np = np.array(glassyC_sample.intensity)\n",
    "print(img_np.max())\n",
    "print(img_np.min())\n",
    "img = (np.round(img_np / img_np.max() * 255)).astype(np.uint8)\n",
    "\n",
    "ret, thresh = cv2.threshold(img, 1, 10, cv2.THRESH_BINARY)\n",
    "plt.imshow(thresh)"
   ]
  },
  {
   "cell_type": "code",
   "execution_count": null,
   "metadata": {},
   "outputs": [],
   "source": [
    "# Detects edges\n",
    "from numpy import copy\n",
    "\n",
    "\n",
    "edged = cv2.Canny(thresh, 2, 20, apertureSize=3, L2gradient=True)\n",
    "plt.imshow(edged)"
   ]
  },
  {
   "cell_type": "code",
   "execution_count": null,
   "metadata": {},
   "outputs": [],
   "source": [
    "\n",
    "\n",
    "# Find contours in the binary image\n",
    "contours, _ = cv2.findContours(edged, cv2.RETR_EXTERNAL, cv2.CHAIN_APPROX_SIMPLE)\n",
    "edge_copy = copy(edged)\n",
    "cv2.drawContours(edge_copy, contours, -1, (255, 255, 255), 3) \n",
    "plt.imshow(edge_copy)"
   ]
  },
  {
   "cell_type": "code",
   "execution_count": null,
   "metadata": {},
   "outputs": [],
   "source": []
  }
 ],
 "metadata": {
  "kernelspec": {
   "display_name": ".venv",
   "language": "python",
   "name": "python3"
  },
  "language_info": {
   "codemirror_mode": {
    "name": "ipython",
    "version": 3
   },
   "file_extension": ".py",
   "mimetype": "text/x-python",
   "name": "python",
   "nbconvert_exporter": "python",
   "pygments_lexer": "ipython3",
   "version": "3.10.15"
  }
 },
 "nbformat": 4,
 "nbformat_minor": 2
}
