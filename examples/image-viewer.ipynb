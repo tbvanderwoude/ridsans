{
 "cells": [
  {
   "cell_type": "code",
   "execution_count": null,
   "metadata": {},
   "outputs": [],
   "source": [
    "from ridsans.sansdata import *"
   ]
  },
  {
   "cell_type": "code",
   "execution_count": null,
   "metadata": {},
   "outputs": [],
   "source": [
    "Q = 3\n",
    "sans_file = SansData(f\"data/samples_glassyC_0-5mm_QR{Q}_6_0Ang.mpa\",False,False,\"CDAT2\")\n",
    "I = sans_file.I\n",
    "sans_file.plot_2d()\n",
    "sans_file.plot_integrated_intensity()"
   ]
  }
 ],
 "metadata": {
  "kernelspec": {
   "display_name": "mantid_env",
   "language": "python",
   "name": "python3"
  },
  "language_info": {
   "codemirror_mode": {
    "name": "ipython",
    "version": 3
   },
   "file_extension": ".py",
   "mimetype": "text/x-python",
   "name": "python",
   "nbconvert_exporter": "python",
   "pygments_lexer": "ipython3",
   "version": "3.10.15"
  }
 },
 "nbformat": 4,
 "nbformat_minor": 2
}
