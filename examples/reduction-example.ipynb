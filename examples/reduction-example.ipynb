{
 "cells": [
  {
   "cell_type": "code",
   "execution_count": null,
   "metadata": {},
   "outputs": [],
   "source": [
    "from ridsans.batch_processing import *\n",
    "\n",
    "(\n",
    "    sample_scatter_file,\n",
    "    sample_transmission_file,\n",
    "    can_scatter_file,\n",
    "    can_transmission_file,\n",
    "    direct_file,\n",
    "    background_file,\n",
    ") = get_filenames_from_batchfile_index(4, \"sans-batchfile.csv\", directory=\"sample-data\")\n",
    "efficiency_file = \"pixel-efficiency.txt.gz\""
   ]
  },
  {
   "cell_type": "code",
   "execution_count": null,
   "metadata": {},
   "outputs": [],
   "source": [
    "ws_sample, ws_direct, mon, ws_pixel_adj,Q_range_index = load_batchfile_index_workspaces(\n",
    "    7, \"pixel-efficiency.txt.gz\", \"sans-batchfile.csv\", directory=\"sample-data\"\n",
    ")"
   ]
  },
  {
   "cell_type": "code",
   "execution_count": null,
   "metadata": {},
   "outputs": [],
   "source": [
    "from ridsans.reduce import *\n",
    "from ridsans.batch_processing import *\n",
    "\n",
    "for index in range(4):\n",
    "    ws_sample, ws_direct, mon, ws_pixel_adj,Q_range_index = load_batchfile_index_workspaces(\n",
    "        index, \"pixel-efficiency.txt.gz\", \"sans-batchfile.csv\", directory=\"sample-data\"\n",
    "    )\n",
    "    print(index, ws_sample.name())\n",
    "    reduction_setup_RIDSANS(ws_sample, ws_direct, ROI=0.025)\n",
    "\n",
    "    reduced_ws_1D = reduce_RIDSANS_1D(ws_sample, ws_pixel_adj)\n",
    "    print(reduced_ws_1D.name())\n",
    "    Q_axis = np.array(reduced_ws_1D.dataX(0))[:-1]\n",
    "    IQ_array = reduced_ws_1D.dataY(0)\n",
    "    dIQ_array = reduced_ws_1D.dataE(0)\n",
    "    # plt.plot(Q_axis, IQ_array,label=f\"Q{i}\")\n",
    "    plt.errorbar(\n",
    "        Q_axis,\n",
    "        IQ_array,\n",
    "        yerr=dIQ_array,\n",
    "        fmt=\"o\",\n",
    "        capsize=3,\n",
    "        markersize=2,\n",
    "        label=f\"Q{index+1}\",\n",
    "    )\n",
    "plt.xlabel(r\"$Q$ [Å$^{-1}$]\")\n",
    "plt.ylabel(r\"$I_c(Q)/I_0$ [a.u.]\")\n",
    "plt.yscale(\"log\")\n",
    "plt.legend()\n",
    "plt.grid()\n",
    "plt.ylim(bottom=0.1)\n",
    "plt.show()"
   ]
  },
  {
   "cell_type": "code",
   "execution_count": null,
   "metadata": {},
   "outputs": [],
   "source": [
    "for index in range(4, 8):\n",
    "    ws_sample, ws_direct, mon, ws_pixel_adj,Q_range_index = load_batchfile_index_workspaces(\n",
    "        index, \"pixel-efficiency.txt.gz\", \"sans-batchfile.csv\", directory=\"sample-data\"\n",
    "    )\n",
    "    print(index, ws_sample.name())\n",
    "    reduction_setup_RIDSANS(ws_sample, ws_direct, ROI=0.025)\n",
    "\n",
    "    reduced_ws_1D = reduce_RIDSANS_1D(ws_sample, ws_pixel_adj)\n",
    "    print(reduced_ws_1D.name())\n",
    "    Q_axis = np.array(reduced_ws_1D.dataX(0))[:-1]\n",
    "    IQ_array = reduced_ws_1D.dataY(0)\n",
    "    dIQ_array = reduced_ws_1D.dataE(0)\n",
    "    # plt.plot(Q_axis, IQ_array,label=f\"Q{i}\")\n",
    "    plt.errorbar(\n",
    "        Q_axis,\n",
    "        IQ_array,\n",
    "        yerr=dIQ_array,\n",
    "        fmt=\"o\",\n",
    "        capsize=3,\n",
    "        markersize=2,\n",
    "        label=f\"Q{index-3}\",\n",
    "    )\n",
    "plt.xlabel(r\"$Q$ [Å$^{-1}$]\")\n",
    "plt.ylabel(r\"$I(Q)$ [a.u.]\")\n",
    "plt.yscale(\"log\")\n",
    "plt.legend()\n",
    "plt.grid()\n",
    "plt.show()"
   ]
  },
  {
   "cell_type": "code",
   "execution_count": null,
   "metadata": {},
   "outputs": [],
   "source": [
    "from mantid.api import AnalysisDataService as ADS\n",
    "\n",
    "for index in range(4, 8):\n",
    "    ws_sample, ws_direct, mon, ws_pixel_adj,Q_range_index = load_batchfile_index_workspaces(\n",
    "        index, \"pixel-efficiency.txt.gz\", \"sans-batchfile.csv\", directory=\"sample-data\"\n",
    "    )\n",
    "    reduction_setup_RIDSANS(ws_sample, ws_direct, ROI=0.025)\n",
    "\n",
    "    reduced_ws_2D = reduce_RIDSANS_2D(ws_sample, ws_pixel_adj)\n",
    "\n",
    "    Q_axis = np.array(reduced_ws_2D.dataX(0))\n",
    "    N_Q_bins = len(Q_axis) - 1\n",
    "    Q_array = np.zeros((N_Q_bins, N_Q_bins))\n",
    "    for i in range(N_Q_bins):\n",
    "        Q_array[i] = reduced_ws_2D.dataY(i)\n",
    "    # Q_axis, Q_array\n",
    "    from matplotlib.colors import LogNorm\n",
    "\n",
    "    # print(Q_array)\n",
    "    extent = [Q_axis[0], Q_axis[-1], Q_axis[0], Q_axis[-1]]\n",
    "    plt.imshow(Q_array, cmap=\"viridis\", extent=extent, norm=LogNorm(), aspect=\"auto\")\n",
    "    plt.colorbar()  # Add a colorbar to show the color scale\n",
    "    plt.xlabel(r\"$Q_x$ [Å$^{-1}$]\")\n",
    "    plt.ylabel(r\"$Q_y$ [Å$^{-1}$]\")\n",
    "    plt.xticks(fontsize=8)\n",
    "    plt.axvline(0, linestyle=\"--\", color=\"red\")\n",
    "    plt.axhline(0, linestyle=\"--\", color=\"red\")\n",
    "    plt.yticks(fontsize=8)\n",
    "    plt.show()"
   ]
  },
  {
   "cell_type": "code",
   "execution_count": null,
   "metadata": {},
   "outputs": [],
   "source": [
    "for index in range(8, 12):\n",
    "    ws_sample, ws_direct, mon, ws_pixel_adj,Q_range_index = retrieve_batchfile_index_workspaces(\n",
    "        index, \"sans-batchfile.csv\", directory=\"sample-data\"\n",
    "    )\n",
    "    print(index, ws_sample.name())"
   ]
  }
 ],
 "metadata": {
  "kernelspec": {
   "display_name": "mantid_env",
   "language": "python",
   "name": "python3"
  },
  "language_info": {
   "codemirror_mode": {
    "name": "ipython",
    "version": 3
   },
   "file_extension": ".py",
   "mimetype": "text/x-python",
   "name": "python",
   "nbconvert_exporter": "python",
   "pygments_lexer": "ipython3",
   "version": "3.10.15"
  }
 },
 "nbformat": 4,
 "nbformat_minor": 2
}
