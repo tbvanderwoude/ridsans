{
 "cells": [
  {
   "cell_type": "code",
   "execution_count": 89,
   "metadata": {},
   "outputs": [],
   "source": [
    "from sansdata import *"
   ]
  },
  {
   "cell_type": "markdown",
   "metadata": {},
   "source": [
    "## 0. Compute relative pixel efficiencies from perspex measurement"
   ]
  },
  {
   "cell_type": "code",
   "execution_count": null,
   "metadata": {},
   "outputs": [],
   "source": [
    "sans_file = SansData(f\"data/perspex.mpa\")"
   ]
  },
  {
   "cell_type": "code",
   "execution_count": null,
   "metadata": {},
   "outputs": [],
   "source": [
    "# Helper function for indexing a rectangle from an array\n",
    "def rect_slice(center, size):\n",
    "    x, y = center\n",
    "    return (slice(y - size // 2, y + size // 2), slice(x - size // 2, x + size // 2))\n",
    "\n",
    "N_eff_pixel = 540  # just an estimate for now\n",
    "beamstop_x, beamstop_y = 520, 1024 - 500\n",
    "beamstop_w, beamstop_h = 76, 76\n",
    "flood_intensities_full = sans_file.raw_intensity.astype(float)\n",
    "flood_intensities_full[rect_slice((beamstop_x, beamstop_y),beamstop_w)] = 0\n",
    "flood_intensities = flood_intensities_full\n",
    "\n",
    "# Compute pixel efficiency from flood measurement\n",
    "relative_efficiency = True\n",
    "if relative_efficiency:\n",
    "    # Compensate for the fact that the beamstop square is not considered in the average\n",
    "    area_factor = 1/(1- beamstop_w * beamstop_h/N_eff_pixel ** 2)\n",
    "    print(area_factor)\n",
    "\n",
    "    # Idea: compute relative pixel efficiency based on the average pixel counts over the given area\n",
    "    mu_flood = np.mean(flood_intensities[rect_slice((512, 512), N_eff_pixel)]) * area_factor\n",
    "    flood_norm = flood_intensities / mu_flood\n",
    "else:\n",
    "    # This assumes that the best pixel has efficiency 1? Also not ideal\n",
    "    max_intensity = np.max(flood_intensities[rect_slice((512, 512), N_eff_pixel)])\n",
    "    flood_norm = flood_intensities / max_intensity\n",
    "\n",
    "def plot_image(data, label):\n",
    "    plt.figure()\n",
    "    # extent = [550//2, 1024-550//2, 550//2, 1024-550//2]\n",
    "    extent = [0,1024,0,1024]\n",
    "    plt.imshow(\n",
    "        data, cmap=\"viridis\", extent=extent, aspect=\"auto\"\n",
    "    ) \n",
    "    plt.colorbar(label=label)\n",
    "    plt.xlabel(\"x\")\n",
    "    plt.ylabel(\"y\")\n",
    "    plt.show()\n",
    "plot_image(flood_norm, \"Relative efficiency\")"
   ]
  },
  {
   "cell_type": "markdown",
   "metadata": {},
   "source": [
    "## Plot integrals along $x,y$ to see relevance"
   ]
  },
  {
   "cell_type": "code",
   "execution_count": null,
   "metadata": {},
   "outputs": [],
   "source": [
    "# Integrated over x, function of y\n",
    "proj_y = np.sum(flood_norm, axis = 1)\n",
    "y_range = np.arange(0,1024,1)\n",
    "plt.plot(y_range, proj_y)\n",
    "plt.show()\n",
    "\n",
    "# Integrated over y, function of x\n",
    "proj_x = np.sum(flood_norm, axis = 0)\n",
    "x_range = np.arange(0,1024,1)\n",
    "plt.plot(x_range, proj_x)\n",
    "# plt.xlim((400,600))"
   ]
  },
  {
   "cell_type": "markdown",
   "metadata": {},
   "source": [
    "## Histogram of pixel efficiencies\n",
    "Verify that the statistics of efficiencies are reasonable: no extraordinarily high values etc."
   ]
  },
  {
   "cell_type": "code",
   "execution_count": null,
   "metadata": {},
   "outputs": [],
   "source": [
    "# Flatten the 2D array to a 1D array\n",
    "active_flood = flood_norm[rect_slice((512, 512), N_eff_pixel)]\n",
    "flat_array = (active_flood).flatten()\n",
    "\n",
    "# Plot histogram\n",
    "plt.hist(flat_array, bins=36, edgecolor='black')\n",
    "plt.xlabel('Pixel efficiency')\n",
    "plt.ylabel('Frequency')\n",
    "plt.title('Histogram of efficiency values')\n",
    "plt.show()"
   ]
  },
  {
   "cell_type": "markdown",
   "metadata": {},
   "source": [
    "## Synthesize full efficiency map (temporary)\n",
    "Currently, no flood measurement is available that can characterize the full detector so make up the values in the beamstop area for now by copying other values. NOT FOR USE IN ACTUAL DATA REDUCTIONS."
   ]
  },
  {
   "cell_type": "code",
   "execution_count": null,
   "metadata": {},
   "outputs": [],
   "source": [
    "flood_norm_synth = np.copy(flood_norm)\n",
    "offset = 15\n",
    "flood_norm_synth[rect_slice((beamstop_x, beamstop_y),beamstop_w+offset)] = flood_norm_synth[rect_slice((beamstop_x, beamstop_y+beamstop_w+offset+10),beamstop_w+offset)]\n",
    "plot_image(flood_norm_synth, \"Relative efficiency\")"
   ]
  },
  {
   "cell_type": "code",
   "execution_count": 83,
   "metadata": {},
   "outputs": [],
   "source": [
    "np.savetxt('pixel-efficiency.txt.gz',flood_norm_synth)"
   ]
  }
 ],
 "metadata": {
  "kernelspec": {
   "display_name": "mantid_env",
   "language": "python",
   "name": "python3"
  },
  "language_info": {
   "codemirror_mode": {
    "name": "ipython",
    "version": 3
   },
   "file_extension": ".py",
   "mimetype": "text/x-python",
   "name": "python",
   "nbconvert_exporter": "python",
   "pygments_lexer": "ipython3",
   "version": "3.10.15"
  }
 },
 "nbformat": 4,
 "nbformat_minor": 2
}
