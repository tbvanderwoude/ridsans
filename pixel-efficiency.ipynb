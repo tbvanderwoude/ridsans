{
 "cells": [
  {
   "cell_type": "code",
   "execution_count": 4,
   "metadata": {},
   "outputs": [],
   "source": [
    "from sansdata import *"
   ]
  },
  {
   "cell_type": "markdown",
   "metadata": {},
   "source": [
    "## 0. Compute relative pixel efficiencies from perspex measurement"
   ]
  },
  {
   "cell_type": "code",
   "execution_count": null,
   "metadata": {},
   "outputs": [],
   "source": [
    "sans_file = SansData(f\"data/perspex.mpa\")"
   ]
  },
  {
   "cell_type": "code",
   "execution_count": null,
   "metadata": {},
   "outputs": [],
   "source": [
    "# Helper function for indexing a rectangle from an array\n",
    "def rect_slice(center, size):\n",
    "    x, y = center\n",
    "    return (slice(y - size // 2, y + size // 2), slice(x - size // 2, x + size // 2))\n",
    "\n",
    "N_eff_pixel = 550  # just an estimate for now\n",
    "beamstop_x, beamstop_y = 520, 1024 - 500\n",
    "beamstop_w, beamstop_h = 76, 76\n",
    "flood_intensities_full = sans_file.raw_intensity.astype(float)\n",
    "flood_intensities_full[rect_slice((beamstop_x, beamstop_y),beamstop_w)] = 0\n",
    "\n",
    "# flood_intensities_full[beamstop_y-beamstop_h//2:beamstop_y+beamstop_h//2,beamstop_x-beamstop_w//2:beamstop_x+beamstop_w//2] = 0\n",
    "flood_intensities = flood_intensities_full\n",
    "\n",
    "# Compensate for the fact that the beamstop square is not considered in the average\n",
    "area_factor = 1/(1- beamstop_w * beamstop_h/N_eff_pixel ** 2)\n",
    "print(area_factor)\n",
    "mu_flood = np.mean(flood_intensities[rect_slice((512, 512), N_eff_pixel)]) * area_factor\n",
    "flood_norm = flood_intensities / mu_flood\n",
    "\n",
    "def plot_image(data, label):\n",
    "    plt.figure()\n",
    "    extent = [550//2, 1024-550//2, 550//2, 1024-550//2]\n",
    "    plt.imshow(\n",
    "        data, cmap=\"viridis\", extent=extent, aspect=\"auto\"\n",
    "    ) \n",
    "    plt.colorbar(label=label)\n",
    "    plt.xlabel(\"x\")\n",
    "    plt.ylabel(\"y\")\n",
    "    plt.show()\n",
    "plot_image(flood_norm, \"Relative efficiency\")"
   ]
  },
  {
   "cell_type": "markdown",
   "metadata": {},
   "source": [
    "### 0.1 Synthesize full efficiency map (temporary)\n",
    "Currently, no flood measurement is available that can characterize the full detector so make up the values in the beamstop area for now by copying other values. NOT FOR USE IN ACTUAL DATA REDUCTIONS."
   ]
  },
  {
   "cell_type": "code",
   "execution_count": null,
   "metadata": {},
   "outputs": [],
   "source": [
    "flood_norm_synth = np.copy(flood_norm)\n",
    "offset = 15\n",
    "flood_norm_synth[rect_slice((beamstop_x, beamstop_y),beamstop_w+offset)] = flood_norm_synth[rect_slice((beamstop_x, beamstop_y+beamstop_w+offset+10),beamstop_w+offset)]\n",
    "plot_image(flood_norm_synth, \"Relative efficiency\")"
   ]
  }
 ],
 "metadata": {
  "kernelspec": {
   "display_name": "mantid_env",
   "language": "python",
   "name": "python3"
  },
  "language_info": {
   "codemirror_mode": {
    "name": "ipython",
    "version": 3
   },
   "file_extension": ".py",
   "mimetype": "text/x-python",
   "name": "python",
   "nbconvert_exporter": "python",
   "pygments_lexer": "ipython3",
   "version": "3.10.15"
  }
 },
 "nbformat": 4,
 "nbformat_minor": 2
}
