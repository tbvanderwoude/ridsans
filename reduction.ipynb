{
 "cells": [
  {
   "cell_type": "code",
   "execution_count": null,
   "metadata": {},
   "outputs": [],
   "source": [
    "from mantid.simpleapi import *\n",
    "from mantid.api import MatrixWorkspace\n",
    "from mantid.api import AnalysisDataService as ADS\n",
    "from mantid.api import *\n",
    "from mantid.kernel import *\n",
    "from sansdata import *"
   ]
  },
  {
   "cell_type": "markdown",
   "metadata": {},
   "source": [
    "## 1. Create `Workspace` from data and instrument definition"
   ]
  },
  {
   "cell_type": "code",
   "execution_count": null,
   "metadata": {},
   "outputs": [],
   "source": [
    "# sans_files = []\n",
    "# for i in range(1, 4 + 1):\n",
    "#     sans_file = SansData(f\"data/memb_BS_Q{i}_6_0Ang.mpa\")\n",
    "#     # sans_file = SansData(f\"data/empty_BS_Q{i}_6_0Ang.mpa\")\n",
    "#     sans_files.append(sans_file)\n",
    "#     sans_file.plot_2d()\n",
    "# del sans_files"
   ]
  },
  {
   "cell_type": "code",
   "execution_count": null,
   "metadata": {},
   "outputs": [],
   "source": [
    "sans_file = SansData(f\"data/memb_BS_Q2_6_0Ang.mpa\")\n",
    "background = SansData(f\"data/09_07_24_backG_3600s_reactor_on_Fish_on.mpa\")\n",
    "direct = SansData(f\"data/empty_no_BS_Q2_Boron.mpa\")\n",
    "transmission = SansData(f\"data/memb_no_BS_Q2_Boron_8_5Ang.mpa\")\n",
    "relative_pixel_efficiency = np.loadtxt('pixel-efficiency.txt.gz')\n",
    "\n",
    "sans_file.plot_2d(True)\n",
    "transmission.plot_2d(True)\n",
    "direct.plot_2d(True)\n",
    "background.plot_2d(True)"
   ]
  },
  {
   "cell_type": "code",
   "execution_count": null,
   "metadata": {},
   "outputs": [],
   "source": [
    "# sans_file = sans_files[3]\n",
    "# sans_file = SansData(\"data/Cnano_BS_Q1_6_0Ang.mpa\")"
   ]
  },
  {
   "cell_type": "code",
   "execution_count": null,
   "metadata": {},
   "outputs": [],
   "source": [
    "def workspace_from_sansdata(sans_file, background_file, pixel_efficiencies):\n",
    "    delta_L_over_L0 = 0.1\n",
    "    bin_lower = sans_file.L0 * (1.0 - delta_L_over_L0/2)\n",
    "    bin_upper = sans_file.L0 * (1.0 + delta_L_over_L0/2)\n",
    "    detectors = 1024 * 1024\n",
    "    # Use the same bin for each detector\n",
    "    x = np.tile([bin_lower,bin_upper],detectors)\n",
    "    y = sans_file.I - background_file.I\n",
    "\n",
    "    ws = CreateWorkspace(OutputWorkspace = sans_file.filename,UnitX=\"Wavelength\",DataX=x, DataY=y, NSpec=detectors)\n",
    "\n",
    "    # Create a workspace to contain the pixel efficiencies\n",
    "    pixel_y = relative_pixel_efficiency\n",
    "    pixel_y[pixel_y<=0] = 1\n",
    "    pixel_adj = CreateWorkspace(OutputWorkspace = 'PixelAdj',UnitX=\"Wavelength\",DataX=x, DataY=pixel_y, NSpec=detectors)\n",
    "\n",
    "    mon = LoadInstrument(ws, FileName=\"RIDSANS_Definition.xml\", RewriteSpectraMap=True)\n",
    "    MoveInstrumentComponent(ws, ComponentName=\"sample-position\", X=0.0, Y=0.0, Z=-sans_file.d, RelativePosition = False)\n",
    "    return ws, pixel_adj, mon\n",
    "ws, pixel_adj, _ = workspace_from_sansdata(sans_file,background, relative_pixel_efficiency)\n",
    "ws, pixel_adj\n"
   ]
  },
  {
   "cell_type": "markdown",
   "metadata": {},
   "source": [
    "\n",
    "## 2. Minimal reduction"
   ]
  },
  {
   "cell_type": "markdown",
   "metadata": {},
   "source": [
    "Perform a very minimal reduction process:\n",
    "- Mask beamstop and everything outside of active detector region\n",
    "- "
   ]
  },
  {
   "cell_type": "markdown",
   "metadata": {},
   "source": [
    "## 2.1. Mask detectors outside of active region\n"
   ]
  },
  {
   "cell_type": "code",
   "execution_count": null,
   "metadata": {},
   "outputs": [],
   "source": [
    "half_w = active_w/2\n",
    "half_h = active_h/2\n",
    "\n",
    "def mask_rectangle(ws, w, h, negative=False, offset_x = 0, offset_y=0):\n",
    "    # Gets large for a 1024 x 1024 detector but at most ~30 MB\n",
    "    mask_list = []\n",
    "    for i in range(ws.getNumberHistograms()):\n",
    "        detector = ws.getDetector(i)\n",
    "        # Get the position of the detector\n",
    "        position = detector.getPos()\n",
    "        if (abs(position.getX() - offset_x) > w/2 or abs(position.getY() - offset_y) > h/2) == (not negative): \n",
    "            mask_list.append(i+1)\n",
    "    MaskDetectors(Workspace=ws, SpectraList=mask_list)\n",
    "\n",
    "mask_rectangle(ws, active_w, active_h)\n",
    "# mask_rectangle(ws, sans_file.beamstop.w, sans_file.beamstop.h, offset_x = sans_file.beamstop.x, offset_y=sans_file.beamstop.y, negative=True)\n",
    "# # Calling MaskDetectors\n",
    "# mask_list = []\n",
    "# for i in range(ws.getNumberHistograms()):\n",
    "#     detector = ws.getDetector(i)\n",
    "#     # Get the position of the detector\n",
    "#     position = detector.getPos()\n",
    "#     if abs(position.getX()) > half_w or abs(position.getY()) > half_h: \n",
    "#         mask_list.append(i+1)\n",
    "\n",
    "# MaskDetectors(Workspace=ws, SpectraList=mask_list)\n",
    "print(\"Completed masking\")"
   ]
  },
  {
   "cell_type": "code",
   "execution_count": null,
   "metadata": {},
   "outputs": [],
   "source": [
    "# Idea: move detector based on beamstop position to compensate for shift\n",
    "# Question: does this actually make sense?\n",
    "MoveInstrumentComponent(ws, ComponentName=\"detector-bank\", X=-sans_file.beamstop.x, Y=-sans_file.beamstop.y, Z=0.0, RelativePosition = False)"
   ]
  },
  {
   "cell_type": "markdown",
   "metadata": {},
   "source": [
    "## 2.2. Calculate $Q_{max}$ and run `Qxy` algorithm"
   ]
  },
  {
   "cell_type": "code",
   "execution_count": null,
   "metadata": {},
   "outputs": [],
   "source": [
    "# max_det_x = 0.140662/2\n",
    "# max_det_y = 0.140662/2\n",
    "ds_dist = sans_file.d\n",
    "r = active_w/2\n",
    "Q_max = 4 * np.pi / sans_file.L0 * np.sin(np.arctan(r/(ds_dist)) / 2)\n",
    "Q_max # AA-1"
   ]
  },
  {
   "cell_type": "code",
   "execution_count": null,
   "metadata": {},
   "outputs": [],
   "source": [
    "delta_Q = 0.0001\n",
    "# max_QXY = 0.01\n",
    "# N_Q_bins = int(np.floor(2*Q_max/delta_Q)+2)\n",
    "\n",
    "Qxy(ws,PixelAdj = pixel_adj, SolidAngleWeighting=False,MaxQxy=Q_max, DeltaQ=delta_Q,OutputWorkspace=\"new\")\n",
    "reduced_ws = ADS.retrieve('new')\n",
    "Q_axis = np.array(reduced_ws.dataX(0))\n",
    "N_Q_bins = len(Q_axis) - 1\n",
    "Q_array = np.zeros((N_Q_bins, N_Q_bins))\n",
    "for i in range(N_Q_bins):\n",
    "    Q_array[i] = reduced_ws.dataY(i)\n",
    "# Q_axis, Q_array"
   ]
  },
  {
   "cell_type": "code",
   "execution_count": null,
   "metadata": {},
   "outputs": [],
   "source": [
    "from matplotlib.colors import LogNorm\n",
    "# print(Q_array)\n",
    "extent = [Q_axis[0], Q_axis[-1], Q_axis[0], Q_axis[-1]]\n",
    "plt.imshow(Q_array, cmap='viridis', extent=extent, norm=LogNorm(),aspect='auto')  # cmap defines the color map (optional)\n",
    "plt.colorbar()  # Add a colorbar to show the color scale\n",
    "plt.xlabel(r'$Q_x$ [Å$^{-1}$]')\n",
    "plt.ylabel(r'$Q_y$ [Å$^{-1}$]')\n",
    "plt.xticks(fontsize=8)\n",
    "plt.axvline(0, linestyle='--', color='red')\n",
    "plt.axhline(0, linestyle='--', color='red')\n",
    "plt.yticks(fontsize=8)\n",
    "plt.show()"
   ]
  },
  {
   "cell_type": "markdown",
   "metadata": {},
   "source": [
    "## 3. Inspection of workspace properties"
   ]
  },
  {
   "cell_type": "code",
   "execution_count": null,
   "metadata": {},
   "outputs": [],
   "source": [
    "# Print some basic instrument and workspace information\n",
    "inst = ws.getInstrument()\n",
    "si = ws.spectrumInfo()\n",
    "di = ws.detectorInfo()\n",
    "ci = ws.componentInfo()\n",
    "print(\"Workspace {0} has instrument: {1}\".format(ws.name(), inst.getName()))\n",
    "print(\"Instrument {0} has {1} components, including {2} monitors and {3} detectors\".format(inst.getName(), ci.size(), len(mon), di.size()))\n",
    "\n",
    "\n",
    "unit = ws.getAxis(0).getUnit().unitID()\n",
    "unit2 = ws.getAxis(1).getUnit().unitID()\n",
    "print(unit)\n",
    "print(unit2)\n",
    "\n",
    "# Get the sample position\n",
    "instrument = ws.getInstrument()\n",
    "\n",
    "sample = instrument.getSample()\n",
    "sample_position_1 = sample.getPos()\n",
    "\n",
    "# sample_position_2 = si.samplePosition()\n",
    "\n",
    "# print(spectrum_info, detector_info)\n",
    "print(\"Sample Position:\", sample_position_1)\n",
    "# print(\"Sample Position:\", sample_position_2)\n",
    "\n",
    "num_spec = ws.getNumberHistograms()\n",
    "num_bins = ws.blocksize()\n",
    "print(\"Detector spectrum blocksize:\", num_bins)\n",
    "print(\"Number of spectra:\", num_spec)\n",
    "for i in range(num_spec):\n",
    "    # Check that all spectra have a matching detector\n",
    "    assert(si.hasDetectors(i))\n",
    "    # Assert that at this point no spectrum is masked\n",
    "    # assert(not si.isMasked(i))\n",
    "    # print(si.position(i))"
   ]
  },
  {
   "cell_type": "markdown",
   "metadata": {},
   "source": [
    "The following code probes the histograms of a cross section of the detectors, looking for detectors with a particularly high count. It also verifies that the bin (X-axis) is correct."
   ]
  },
  {
   "cell_type": "code",
   "execution_count": null,
   "metadata": {},
   "outputs": [],
   "source": [
    "print(\"number of histograms = {0}\".format(ws.getNumberHistograms()))\n",
    "# ws.getSpectrum(3)\n",
    "for i in range(0,ws.getNumberHistograms(),100):\n",
    "    sum_counts = ws.readY(i)[0]\n",
    "\n",
    "    # Display spectrum number against sum_counts\n",
    "    if sum_counts >= 200.0:\n",
    "        print(\"{0} {1} {2}\".format(ws.getSpectrum(i).getSpectrumNo(), sum_counts,ws.readX(i)))"
   ]
  }
 ],
 "metadata": {
  "kernelspec": {
   "display_name": "mantid_env",
   "language": "python",
   "name": "python3"
  },
  "language_info": {
   "codemirror_mode": {
    "name": "ipython",
    "version": 3
   },
   "file_extension": ".py",
   "mimetype": "text/x-python",
   "name": "python",
   "nbconvert_exporter": "python",
   "pygments_lexer": "ipython3",
   "version": "3.10.15"
  }
 },
 "nbformat": 4,
 "nbformat_minor": 2
}
