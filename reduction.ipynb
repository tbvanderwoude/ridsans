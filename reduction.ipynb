{
 "cells": [
  {
   "cell_type": "code",
   "execution_count": 37,
   "metadata": {},
   "outputs": [],
   "source": [
    "from mantid.simpleapi import *\n",
    "from mantid.api import MatrixWorkspace\n",
    "from mantid.api import AnalysisDataService as ADS\n",
    "from reduction_workflow.command_interface import ReductionSingleton, Clear\n",
    "from mantid.api import *\n",
    "from mantid.kernel import *\n",
    "from sansdata import *"
   ]
  },
  {
   "cell_type": "markdown",
   "metadata": {},
   "source": [
    "## 1. Create `Workspace` from data and instrument definition"
   ]
  },
  {
   "cell_type": "code",
   "execution_count": null,
   "metadata": {},
   "outputs": [],
   "source": [
    "sans_file = SansData(\"data/memb_BS_Q1_6_0Ang.mpa\")\n",
    "sans_file.plot_2d()"
   ]
  },
  {
   "cell_type": "code",
   "execution_count": null,
   "metadata": {},
   "outputs": [],
   "source": [
    "from reduction_workflow.command_interface import *\n",
    "nBins = 1\n",
    "\n",
    "delta_L_over_L0 = 0.1\n",
    "bin_lower = sans_file.L0 * (1.0 - delta_L_over_L0/2)\n",
    "bin_upper = sans_file.L0 * (1.0 + delta_L_over_L0/2)\n",
    "\n",
    "detectors = 1024 * 1024\n",
    "\n",
    "# Define single wavelength bin\n",
    "x = np.tile([bin_lower,bin_upper],detectors)\n",
    "\n",
    "print(x)\n",
    "# Counts\n",
    "y = sans_file.raw_intensity\n",
    "# The workspace will be named \"dataWS1\", error values will be zero.\n",
    "ws = CreateWorkspace(OutputWorkspace = \"raw_2D_counts\",UnitX=\"Wavelength\",DataX=x, DataY=y, NSpec=detectors)\n",
    "mon = LoadInstrument(ws, FileName=\"RIDSANS_Definition.xml\", RewriteSpectraMap=True)"
   ]
  },
  {
   "cell_type": "markdown",
   "metadata": {},
   "source": [
    "\n",
    "## 2. Verify basic Workspace properties"
   ]
  },
  {
   "cell_type": "code",
   "execution_count": null,
   "metadata": {},
   "outputs": [],
   "source": [
    "# Print some basic instrument and workspace information\n",
    "inst = ws.getInstrument()\n",
    "di2 = ws.detectorInfo()\n",
    "ci2 = ws.componentInfo()\n",
    "print(\"Workspace {0} has instrument: {1}\".format(ws.name(), inst.getName()))\n",
    "print(\"Instrument {0} has {1} components, including {2} monitors and {3} detectors\".format(inst.getName(), ci2.size(), len(mon), di2.size()))\n",
    "\n",
    "# Get the sample position\n",
    "instrument = ws.getInstrument()\n",
    "sample = instrument.getSample()\n",
    "sample_position = sample.getPos()\n",
    "print(\"Sample Position:\", sample_position)\n",
    "\n",
    "blocksize = ws.blocksize()\n",
    "print(\"Detector spectrum blocksize:\", blocksize)\n"
   ]
  },
  {
   "cell_type": "markdown",
   "metadata": {},
   "source": [
    "The following code probes the histograms of a cross section of the detectors, looking for detectors with a particularly high count. It also verifies that the bin (X-axis) is correct."
   ]
  },
  {
   "cell_type": "code",
   "execution_count": null,
   "metadata": {},
   "outputs": [],
   "source": [
    "print(\"number of histograms = {0}\".format(ws.getNumberHistograms()))\n",
    "# ws.getSpectrum(3)\n",
    "for i in range(0,ws.getNumberHistograms(),100):\n",
    "    sum_counts = ws.readY(i)[0]\n",
    "\n",
    "    # Display spectrum number against sum_counts\n",
    "    if sum_counts >= 100.0:\n",
    "        print(\"{0} {1} {2}\".format(ws.getSpectrum(i).getSpectrumNo(), sum_counts,ws.readX(i)))"
   ]
  },
  {
   "cell_type": "code",
   "execution_count": null,
   "metadata": {},
   "outputs": [],
   "source": [
    "delta_Q = 1e-11\n",
    "max_QXY = 1e-8\n",
    "if ws.getRun().hasProperty(\"sample_detector_distance\"):\n",
    "    sample_detector_distance = ws.getRun().getProperty(\"sample_detector_distance\").value\n",
    "    print(sample_detector_distance)\n",
    "Qxy(ws,MaxQxy=max_QXY, DeltaQ=delta_Q,OUTPUTWORKSPACE=\"new\")"
   ]
  },
  {
   "cell_type": "code",
   "execution_count": null,
   "metadata": {},
   "outputs": [],
   "source": [
    "reduced_ws = ADS.retrieve('new')\n",
    "# dir(reduced_ws)\n",
    "x = reduced_ws.dataX(14)\n",
    "print(x.shape)\n",
    "y = reduced_ws.dataY(21)\n",
    "E = reduced_ws.dataE(21)\n",
    "print(y.shape)\n",
    "print(y.shape)\n",
    "\n",
    "print(x,y,E)"
   ]
  },
  {
   "cell_type": "code",
   "execution_count": null,
   "metadata": {},
   "outputs": [],
   "source": []
  }
 ],
 "metadata": {
  "kernelspec": {
   "display_name": "mantid_env",
   "language": "python",
   "name": "python3"
  },
  "language_info": {
   "codemirror_mode": {
    "name": "ipython",
    "version": 3
   },
   "file_extension": ".py",
   "mimetype": "text/x-python",
   "name": "python",
   "nbconvert_exporter": "python",
   "pygments_lexer": "ipython3",
   "version": "3.10.15"
  }
 },
 "nbformat": 4,
 "nbformat_minor": 2
}
