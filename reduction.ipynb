{
 "cells": [
  {
   "cell_type": "code",
   "execution_count": null,
   "metadata": {},
   "outputs": [],
   "source": [
    "from mantid.simpleapi import *\n",
    "from mantid.api import MatrixWorkspace\n",
    "from mantid.api import AnalysisDataService as ADS\n",
    "from mantid.api import *\n",
    "from mantid.kernel import *\n",
    "from sansdata import *"
   ]
  },
  {
   "cell_type": "markdown",
   "metadata": {},
   "source": [
    "## 1. Create `Workspace` from data and instrument definition"
   ]
  },
  {
   "cell_type": "code",
   "execution_count": null,
   "metadata": {},
   "outputs": [],
   "source": [
    "sans_file = SansData(\"data/memb_BS_Q1_6_0Ang.mpa\")\n",
    "sans_file.plot_2d()"
   ]
  },
  {
   "cell_type": "code",
   "execution_count": null,
   "metadata": {},
   "outputs": [],
   "source": [
    "nBins = 1\n",
    "\n",
    "delta_L_over_L0 = 0.1\n",
    "bin_lower = sans_file.L0 * (1.0 - delta_L_over_L0/2)\n",
    "bin_upper = sans_file.L0 * (1.0 + delta_L_over_L0/2)\n",
    "\n",
    "detectors = 1024 * 1024\n",
    "\n",
    "# Use the same bin for each\n",
    "x = np.tile([bin_lower,bin_upper],detectors)\n",
    "y = sans_file.raw_intensity\n",
    "\n",
    "ws = CreateWorkspace(OutputWorkspace = \"raw_2D_counts\",UnitX=\"Wavelength\",DataX=x, DataY=y, NSpec=detectors)\n",
    "mon = LoadInstrument(ws, FileName=\"RIDSANS_Definition.xml\", RewriteSpectraMap=True)\n",
    "MoveInstrumentComponent(ws, ComponentName=\"sample-position\", X=0.0, Y=0.0, Z=-sans_file.d, RelativePosition = False)\n"
   ]
  },
  {
   "cell_type": "markdown",
   "metadata": {},
   "source": [
    "\n",
    "## 2. Verify basic Workspace properties"
   ]
  },
  {
   "cell_type": "code",
   "execution_count": null,
   "metadata": {},
   "outputs": [],
   "source": [
    "# Print some basic instrument and workspace information\n",
    "inst = ws.getInstrument()\n",
    "si = ws.spectrumInfo()\n",
    "di = ws.detectorInfo()\n",
    "ci = ws.componentInfo()\n",
    "print(\"Workspace {0} has instrument: {1}\".format(ws.name(), inst.getName()))\n",
    "print(\"Instrument {0} has {1} components, including {2} monitors and {3} detectors\".format(inst.getName(), ci.size(), len(mon), di.size()))\n",
    "\n",
    "\n",
    "unit = ws.getAxis(0).getUnit().unitID()\n",
    "unit2 = ws.getAxis(1).getUnit().unitID()\n",
    "print(unit)\n",
    "print(unit2)\n",
    "\n",
    "# Get the sample position\n",
    "instrument = ws.getInstrument()\n",
    "\n",
    "sample = instrument.getSample()\n",
    "sample_position_1 = sample.getPos()\n",
    "\n",
    "# sample_position_2 = si.samplePosition()\n",
    "\n",
    "# print(spectrum_info, detector_info)\n",
    "print(\"Sample Position:\", sample_position_1)\n",
    "# print(\"Sample Position:\", sample_position_2)\n",
    "\n",
    "num_spec = ws.getNumberHistograms()\n",
    "num_bins = ws.blocksize()\n",
    "print(\"Detector spectrum blocksize:\", num_bins)\n",
    "print(\"Number of spectra:\", num_spec)\n",
    "for i in range(num_spec):\n",
    "    # Check that all spectra have a matching detector\n",
    "    assert(si.hasDetectors(i))\n",
    "    # Assert that at this point no spectrum is masked\n",
    "    assert(not si.isMasked(i))\n",
    "    # print(si.position(i))"
   ]
  },
  {
   "cell_type": "markdown",
   "metadata": {},
   "source": [
    "The following code probes the histograms of a cross section of the detectors, looking for detectors with a particularly high count. It also verifies that the bin (X-axis) is correct."
   ]
  },
  {
   "cell_type": "code",
   "execution_count": null,
   "metadata": {},
   "outputs": [],
   "source": [
    "print(\"number of histograms = {0}\".format(ws.getNumberHistograms()))\n",
    "# ws.getSpectrum(3)\n",
    "for i in range(0,ws.getNumberHistograms(),100):\n",
    "    sum_counts = ws.readY(i)[0]\n",
    "\n",
    "    # Display spectrum number against sum_counts\n",
    "    if sum_counts >= 100.0:\n",
    "        print(\"{0} {1} {2}\".format(ws.getSpectrum(i).getSpectrumNo(), sum_counts,ws.readX(i)))"
   ]
  },
  {
   "cell_type": "markdown",
   "metadata": {},
   "source": [
    "## 2.1. Calculate $Q_{max}$ and run `Qxy` algorithm"
   ]
  },
  {
   "cell_type": "code",
   "execution_count": null,
   "metadata": {},
   "outputs": [],
   "source": [
    "max_det_x = 0.140662\n",
    "max_det_y = 0.140662\n",
    "ds_dist = sans_file.d\n",
    "r = np.sqrt(2) * max_det_x\n",
    "Q_max = 4 * np.pi / sans_file.L0 * np.sin(np.arctan(r/(2 * ds_dist)) / 2)\n",
    "Q_max # AA-1"
   ]
  },
  {
   "cell_type": "code",
   "execution_count": null,
   "metadata": {},
   "outputs": [],
   "source": [
    "delta_Q = 0.0001\n",
    "max_QXY = 0.01\n",
    "N_Q_bins = int(np.ceil(2*max_QXY/delta_Q))\n",
    "\n",
    "# ws_scaled = ws / 1000\n",
    "Qxy(ws,SolidAngleWeighting=False,MaxQxy=max_QXY, DeltaQ=delta_Q,OutputWorkspace=\"new\")\n",
    "reduced_ws = ADS.retrieve('new')\n",
    "# dir(reduced_ws)\n",
    "\n",
    "Q_array = np.zeros((N_Q_bins, N_Q_bins))\n",
    "# Q_axis = np.zeros((N_Q_bins))\n",
    "Q_axis = np.array(reduced_ws.dataX(0))\n",
    "for i in range(N_Q_bins):\n",
    "    Q_array[i] = reduced_ws.dataY(i)\n",
    "Q_axis, Q_array"
   ]
  },
  {
   "cell_type": "code",
   "execution_count": null,
   "metadata": {},
   "outputs": [],
   "source": [
    "from matplotlib.colors import LogNorm\n",
    "# print(Q_array)\n",
    "extent = [Q_axis[0], Q_axis[-1], Q_axis[0], Q_axis[-1]]\n",
    "plt.imshow(Q_array, cmap='viridis', extent=extent, norm=LogNorm(),aspect='auto')  # cmap defines the color map (optional)\n",
    "plt.colorbar()  # Add a colorbar to show the color scale\n",
    "plt.xlabel(r'$Q_x$ [Å$^{-1}$]')\n",
    "plt.ylabel(r'$Q_y$ [Å$^{-1}$]')\n",
    "plt.xticks(fontsize=8)\n",
    "plt.yticks(fontsize=8)\n",
    "plt.show()"
   ]
  },
  {
   "cell_type": "code",
   "execution_count": null,
   "metadata": {},
   "outputs": [],
   "source": [
    "plt.imshow(Q_array, cmap='viridis')  # cmap defines the color map (optional)\n",
    "plt.colorbar()  # Add a colorbar to show the color scale\n",
    "plt.show()"
   ]
  }
 ],
 "metadata": {
  "kernelspec": {
   "display_name": "mantid_env",
   "language": "python",
   "name": "python3"
  },
  "language_info": {
   "codemirror_mode": {
    "name": "ipython",
    "version": 3
   },
   "file_extension": ".py",
   "mimetype": "text/x-python",
   "name": "python",
   "nbconvert_exporter": "python",
   "pygments_lexer": "ipython3",
   "version": "3.10.15"
  }
 },
 "nbformat": 4,
 "nbformat_minor": 2
}
