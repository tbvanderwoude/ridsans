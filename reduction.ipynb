{
 "cells": [
  {
   "cell_type": "code",
   "execution_count": null,
   "metadata": {},
   "outputs": [],
   "source": [
    "from mantid.simpleapi import *\n",
    "from mantid.api import MatrixWorkspace\n",
    "from reduction_workflow.command_interface import ReductionSingleton, Clear\n",
    "from mantid.api import *\n",
    "from mantid.kernel import *\n",
    "from sansdata import *\n",
    "\n",
    "sans_file = SansData(\"data/memb_BS_Q1_6_0Ang.mpa\")\n",
    "sans_file.plot_2d()"
   ]
  },
  {
   "cell_type": "code",
   "execution_count": null,
   "metadata": {},
   "outputs": [],
   "source": [
    "from reduction_workflow.command_interface import *\n",
    "nBins = 1\n",
    "\n",
    "delta_L_over_L0 = 0.1\n",
    "bin_lower = sans_file.L0 * (1.0 - delta_L_over_L0/2)\n",
    "bin_upper = sans_file.L0 * (1.0 + delta_L_over_L0/2)\n",
    "\n",
    "detectors = 1024 * 1024\n",
    "\n",
    "# Define single wavelength bin\n",
    "x = np.repeat([bin_lower,bin_upper],detectors)\n",
    "# Counts\n",
    "y = sans_file.raw_intensity\n",
    "# The workspace will be named \"dataWS1\", error values will be zero.\n",
    "ws = CreateWorkspace(OutputWorkspace = \"raw_2D_counts\",UnitX=\"Wavelength\",DataX=x, DataY=y, NSpec=detectors)\n",
    "mon = LoadInstrument(ws, FileName=\"RIDSANS_Definition.xml\", RewriteSpectraMap=True)\n",
    "# SetSampleDetectorDistance(1802.5)\n",
    "# SetWavelength(4.86, 0.13)\n",
    "inst = ws.getInstrument()\n",
    "di2 = ws.detectorInfo()\n",
    "ci2 = ws.componentInfo()\n",
    "print(\"Workspace {0} has instrument: {1}\".format(ws.name(), inst.getName()))\n",
    "print(\"Instrument {0} has {1} components, including {2} monitors and {3} detectors\".format(inst.getName(), ci2.size(), len(mon), di2.size()))"
   ]
  },
  {
   "cell_type": "code",
   "execution_count": 27,
   "metadata": {},
   "outputs": [],
   "source": [
    "# print(\"number of histograms = {0}\".format(ws.getNumberHistograms()))\n",
    "# # ws.getSpectrum(3)\n",
    "# for i in range(0,ws.getNumberHistograms(),1000):\n",
    "#     y = ws.readY(i)\n",
    "#     sum_counts = 0\n",
    "#     # Inner loop. Loop over bins.\n",
    "#     for j in range(ws.blocksize()):\n",
    "#         sum_counts += y[j] \n",
    "#     # Display spectrum number against sum_counts\n",
    "#     if sum_counts != 0.0:\n",
    "#         print(\"{0} {1}\".format(ws.getSpectrum(i).getSpectrumNo(), sum_counts))"
   ]
  },
  {
   "cell_type": "code",
   "execution_count": null,
   "metadata": {},
   "outputs": [],
   "source": [
    "delta_Q = 1e-11\n",
    "max_QXY = 1e-8\n",
    "Qxy(ws,MaxQxy=max_QXY, DeltaQ=delta_Q,OUTPUTWORKSPACE=\"new\")"
   ]
  },
  {
   "cell_type": "code",
   "execution_count": null,
   "metadata": {},
   "outputs": [],
   "source": [
    "from mantid.api import AnalysisDataService as ADS\n",
    "from mantid.plots.utility import MantidAxType\n",
    "import numpy as np\n",
    "from matplotlib.colors import LogNorm\n",
    "from matplotlib.ticker import LogLocator\n",
    "from asciiexport import *\n",
    "\n",
    "reduced_ws = ADS.retrieve('new')\n",
    "print(reduced_ws)\n",
    "axis = reduced_ws.getAxis(1).extractValues()\n",
    "print(axis)\n",
    "\n",
    "for index in range(0, reduced_ws.getNumberHistograms()):\n",
    "    #Note the round brackets followed by the square brackets\n",
    "    print(reduced_ws.readX(index)[0])\n",
    "# y_data2 = ws.readX(1)\n",
    "# for y in y_data2:\n",
    "#     print(y)"
   ]
  }
 ],
 "metadata": {
  "kernelspec": {
   "display_name": "mantid_env",
   "language": "python",
   "name": "python3"
  },
  "language_info": {
   "codemirror_mode": {
    "name": "ipython",
    "version": 3
   },
   "file_extension": ".py",
   "mimetype": "text/x-python",
   "name": "python",
   "nbconvert_exporter": "python",
   "pygments_lexer": "ipython3",
   "version": "3.10.15"
  }
 },
 "nbformat": 4,
 "nbformat_minor": 2
}
