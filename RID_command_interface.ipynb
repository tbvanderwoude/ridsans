{
 "cells": [
  {
   "cell_type": "markdown",
   "metadata": {},
   "source": [
    "# RIDSANS Mantid command interface"
   ]
  },
  {
   "cell_type": "code",
   "execution_count": 1,
   "metadata": {},
   "outputs": [],
   "source": [
    "from reduction_workflow.command_interface import ReductionSingleton, Clear\n",
    "from mantid.api import *\n",
    "from mantid.kernel import *\n",
    "from sansdata import *"
   ]
  },
  {
   "cell_type": "markdown",
   "metadata": {},
   "source": [
    "## 1. Define and register a new reduction algorithms"
   ]
  },
  {
   "cell_type": "markdown",
   "metadata": {},
   "source": [
    "Here, the two `PythonAlgorithm"
   ]
  },
  {
   "cell_type": "code",
   "execution_count": 2,
   "metadata": {},
   "outputs": [],
   "source": [
    "# Derivative of HFIRSANSReduction\n",
    "\n",
    "class SetupRIDSANSReduction(PythonAlgorithm):\n",
    "    def category(self):\n",
    "        return \"Workflow\\\\SANS\\\\UsesPropertyManager\"\n",
    "\n",
    "    def name(self):\n",
    "        return \"SetupRIDSANSReduction\"\n",
    "\n",
    "    def summary(self):\n",
    "        return \"Setup for RID SANS reduction workflow.\"\n",
    "\n",
    "    def PyInit(self):\n",
    "        self.declareProperty(\"Filename\", \"\", doc=\"List of input file paths\")\n",
    "        self.declareProperty(\n",
    "            \"ReductionProperties\",\n",
    "            \"__sans_reduction_properties\",\n",
    "            validator=StringMandatoryValidator(),\n",
    "            doc=\"Property manager name for the reduction\",\n",
    "        )\n",
    "        self.declareProperty(\"OutputMessage\", \"\", direction=Direction.Output, doc=\"Output message\")\n",
    "\n",
    "    def PyExec(self):\n",
    "        print(\"SetupRIDSANSReduction execution (pass)\")\n",
    "        self.setPropertyValue(\"OutputMessage\", \"HFIR reduction options set\");\n",
    "        pass\n",
    "\n",
    "AlgorithmFactory.subscribe(SetupRIDSANSReduction)"
   ]
  },
  {
   "cell_type": "code",
   "execution_count": 3,
   "metadata": {},
   "outputs": [],
   "source": [
    "# Derivative of HFIRSANSReduction\n",
    "\n",
    "class RIDSANSReduction(PythonAlgorithm):\n",
    "    def category(self):\n",
    "        return \"Workflow\\\\SANS\\\\UsesPropertyManager\"\n",
    "\n",
    "    def name(self):\n",
    "        return \"RIDSANSReduction\"\n",
    "\n",
    "    def summary(self):\n",
    "        return \"RID SANS reduction workflow.\"\n",
    "\n",
    "    def PyInit(self):\n",
    "        self.declareProperty(\"Filename\", \"\", doc=\"List of input file paths\")\n",
    "        self.declareProperty(\n",
    "            \"ReductionProperties\",\n",
    "            \"__sans_reduction_properties\",\n",
    "            validator=StringMandatoryValidator(),\n",
    "            doc=\"Property manager name for the reduction\",\n",
    "        )\n",
    "        self.declareProperty(\"OutputWorkspace\", \"\", doc=\"Reduced workspace\")\n",
    "        self.declareProperty(\"OutputMessage\", \"\", direction=Direction.Output, doc=\"Output message\")\n",
    "\n",
    "    def PyExec(self):\n",
    "        pass\n",
    "    \n",
    "AlgorithmFactory.subscribe(RIDSANSReduction)"
   ]
  },
  {
   "cell_type": "code",
   "execution_count": null,
   "metadata": {},
   "outputs": [],
   "source": [
    "# Verify that SetupRIDSANSReduction, RIDSANSReduction algorithsm can now be created\n",
    "setup_alg = AlgorithmManager.create(\"SetupRIDSANSReduction\")\n",
    "alg = AlgorithmManager.create(\"RIDSANSReduction\")\n",
    "setup_alg.initialize()\n",
    "alg.initialize()\n",
    "print(setup_alg,alg)"
   ]
  },
  {
   "cell_type": "markdown",
   "metadata": {},
   "source": [
    "## 2. Define a new load algorithm for NXSas"
   ]
  },
  {
   "cell_type": "code",
   "execution_count": null,
   "metadata": {},
   "outputs": [],
   "source": [
    "from mantid.simpleapi import *\n",
    "from mantid.api import MatrixWorkspace\n",
    "\n",
    "sans_file = SansData(\"data/memb_BS_Q1_6_0Ang.mpa\")\n",
    "sans_file.plot_2d()"
   ]
  },
  {
   "cell_type": "code",
   "execution_count": null,
   "metadata": {},
   "outputs": [],
   "source": [
    "nBins = 1\n",
    "\n",
    "delta_L_over_L0 = 0.1\n",
    "bin_lower = sans_file.L0 * (1.0 - delta_L_over_L0/2)\n",
    "bin_upper = sans_file.L0 * (1.0 + delta_L_over_L0/2)\n",
    "\n",
    "detectors = 2\n",
    "\n",
    "# Define single wavelength bin\n",
    "x_single = np.array([bin_lower, bin_upper])\n",
    "# Counts\n",
    "y_single = np.array([0])\n",
    "\n",
    "dataX = np.repeat(x_single,detectors)\n",
    "\n",
    "dataY = np.repeat(y_single, detectors)\n",
    "\n",
    "# The workspace will be named \"dataWS1\", error values will be zero.\n",
    "dataWS1 = CreateWorkspace(OutputWorkspace = \"first\",UnitX=\"Wavelength\",DataX=dataX, DataY=dataY, NSpec=detectors)"
   ]
  },
  {
   "cell_type": "code",
   "execution_count": 6,
   "metadata": {},
   "outputs": [],
   "source": [
    "# Derivative of HFIRSANSReduction\n",
    "\n",
    "class LoadRIDSANS(PythonAlgorithm):\n",
    "    def category(self):\n",
    "        return \"Workflow\\\\SANS\\\\UsesPropertyManager\"\n",
    "\n",
    "    def name(self):\n",
    "        return \"LoadRIDSANS\"\n",
    "\n",
    "    def summary(self):\n",
    "        return \"RID SANS file loading.\"\n",
    "\n",
    "    def PyInit(self):\n",
    "        self.declareProperty(\"Filename\", \"\", doc=\"List of input file paths\")\n",
    "        self.declareProperty(\"OutputWorkspace\", \"\", doc=\"Loaded workspace\")\n",
    "        self.declareProperty(\"OutputMessage\", \"\", direction=Direction.Output, doc=\"Output message\")\n",
    "\n",
    "    def PyExec(self):\n",
    "        print(\"LoadRIDSANS execution (pass)\")\n",
    "        self.setPropertyValue(\"OutputMessage\", \"File loaded\");\n",
    "        file = self.getPropertyValue(\"Filename\")\n",
    "        samples = list(map(SansData, file))\n",
    "        pass\n",
    "\n",
    "AlgorithmFactory.subscribe(LoadRIDSANS)"
   ]
  },
  {
   "cell_type": "markdown",
   "metadata": {},
   "source": [
    "## 3. Define RIDSANS command interface"
   ]
  },
  {
   "cell_type": "code",
   "execution_count": 7,
   "metadata": {},
   "outputs": [],
   "source": [
    "def RIDSANS():\n",
    "    Clear()\n",
    "    ReductionSingleton().set_instrument(\"RID\", \"SetupRIDSANSReduction\", \"RIDSANSReduction\")"
   ]
  },
  {
   "cell_type": "code",
   "execution_count": 57,
   "metadata": {},
   "outputs": [],
   "source": [
    "RIDSANS()\n",
    "# TODO: set all properties of the singleton by accessing ReductionSingleton().reduction_properties[\"PROPERTY_NAME\"] "
   ]
  }
 ],
 "metadata": {
  "kernelspec": {
   "display_name": "mantid_env",
   "language": "python",
   "name": "python3"
  },
  "language_info": {
   "codemirror_mode": {
    "name": "ipython",
    "version": 3
   },
   "file_extension": ".py",
   "mimetype": "text/x-python",
   "name": "python",
   "nbconvert_exporter": "python",
   "pygments_lexer": "ipython3",
   "version": "3.10.15"
  }
 },
 "nbformat": 4,
 "nbformat_minor": 2
}
