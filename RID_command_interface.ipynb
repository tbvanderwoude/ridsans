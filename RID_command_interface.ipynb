{
 "cells": [
  {
   "cell_type": "markdown",
   "metadata": {},
   "source": [
    "# RIDSANS Mantid command interface"
   ]
  },
  {
   "cell_type": "code",
   "execution_count": 45,
   "metadata": {},
   "outputs": [],
   "source": [
    "from reduction_workflow.command_interface import ReductionSingleton, Clear\n",
    "from mantid.api import *\n",
    "from mantid.kernel import *"
   ]
  },
  {
   "cell_type": "markdown",
   "metadata": {},
   "source": [
    "## 1. Define and register a new reduction algorithms"
   ]
  },
  {
   "cell_type": "markdown",
   "metadata": {},
   "source": [
    "Here, the two `PythonAlgorithm"
   ]
  },
  {
   "cell_type": "code",
   "execution_count": 46,
   "metadata": {},
   "outputs": [],
   "source": [
    "# Derivative of HFIRSANSReduction\n",
    "\n",
    "class SetupRIDSANSReduction(PythonAlgorithm):\n",
    "    default_output_dir = None\n",
    "\n",
    "    def category(self):\n",
    "        return \"Workflow\\\\SANS\\\\UsesPropertyManager\"\n",
    "\n",
    "    def name(self):\n",
    "        return \"SetupRIDSANSReduction\"\n",
    "\n",
    "    def summary(self):\n",
    "        return \"RID SANS reduction workflow setup.\"\n",
    "\n",
    "    def PyInit(self):\n",
    "        self.declareProperty(\"Filename\", \"\", doc=\"List of input file paths\")\n",
    "        self.declareProperty(\n",
    "            \"ReductionProperties\",\n",
    "            \"__sans_reduction_properties\",\n",
    "            validator=StringMandatoryValidator(),\n",
    "            doc=\"Property manager name for the reduction\",\n",
    "        )\n",
    "        self.declareProperty(\"OutputMessage\", \"\", direction=Direction.Output, doc=\"Output message\")\n",
    "\n",
    "    def _multiple_load(self, data_file, workspace, property_manager, property_manager_name):\n",
    "        pass\n",
    "\n",
    "    def PyExec(self):\n",
    "        pass\n",
    "\n",
    "    def _simple_execution(self, algorithm_name, workspace, output_workspace=None):\n",
    "        print(\"SetupRIDSANSReduction execution (pass)\")\n",
    "        self.setPropertyValue(\"OutputMessage\", \"HFIR reduction options set\");\n",
    "        pass\n",
    "\n",
    "    def _save_output(self, iq_output, iqxy_output, output_dir, property_manager):\n",
    "        pass\n",
    "\n",
    "AlgorithmFactory.subscribe(SetupRIDSANSReduction)"
   ]
  },
  {
   "cell_type": "code",
   "execution_count": 47,
   "metadata": {},
   "outputs": [],
   "source": [
    "# Derivative of HFIRSANSReduction\n",
    "\n",
    "class RIDSANSReduction(PythonAlgorithm):\n",
    "    default_output_dir = None\n",
    "\n",
    "    def category(self):\n",
    "        return \"Workflow\\\\SANS\\\\UsesPropertyManager\"\n",
    "\n",
    "    def name(self):\n",
    "        return \"RIDSANSReduction\"\n",
    "\n",
    "    def summary(self):\n",
    "        return \"RID SANS reduction workflow.\"\n",
    "\n",
    "    def PyInit(self):\n",
    "        self.declareProperty(\"Filename\", \"\", doc=\"List of input file paths\")\n",
    "        self.declareProperty(\n",
    "            \"ReductionProperties\",\n",
    "            \"__sans_reduction_properties\",\n",
    "            validator=StringMandatoryValidator(),\n",
    "            doc=\"Property manager name for the reduction\",\n",
    "        )\n",
    "        self.declareProperty(\"OutputWorkspace\", \"\", doc=\"Reduced workspace\")\n",
    "        self.declareProperty(\"OutputMessage\", \"\", direction=Direction.Output, doc=\"Output message\")\n",
    "\n",
    "    def _multiple_load(self, data_file, workspace, property_manager, property_manager_name):\n",
    "        pass\n",
    "\n",
    "    def PyExec(self):\n",
    "        pass\n",
    "\n",
    "    def process_data_file(self, workspace):\n",
    "        pass\n",
    "\n",
    "    def _simple_execution(self, algorithm_name, workspace, output_workspace=None):\n",
    "        pass\n",
    "\n",
    "    def _save_output(self, iq_output, iqxy_output, output_dir, property_manager):\n",
    "        pass\n",
    "\n",
    "AlgorithmFactory.subscribe(RIDSANSReduction)"
   ]
  },
  {
   "cell_type": "code",
   "execution_count": null,
   "metadata": {},
   "outputs": [],
   "source": [
    "# Verify that SetupRIDSANSReduction, RIDSANSReduction algorithsm can now be created\n",
    "setup_alg = AlgorithmManager.create(\"SetupRIDSANSReduction\")\n",
    "alg = AlgorithmManager.create(\"RIDSANSReduction\")\n",
    "setup_alg.initialize()\n",
    "alg.initialize()\n",
    "print(setup_alg,alg)"
   ]
  },
  {
   "cell_type": "code",
   "execution_count": 49,
   "metadata": {},
   "outputs": [],
   "source": [
    "def RIDSANS():\n",
    "    Clear()\n",
    "    ReductionSingleton().set_instrument(\"RID\", \"SetupRIDSANSReduction\", \"RIDSANSReduction\")"
   ]
  },
  {
   "cell_type": "code",
   "execution_count": 50,
   "metadata": {},
   "outputs": [],
   "source": [
    "RIDSANS()\n",
    "# TODO: set all properties of the singleton by accessing ReductionSingleton().reduction_properties[\"PROPERTY_NAME\"] "
   ]
  },
  {
   "cell_type": "code",
   "execution_count": null,
   "metadata": {},
   "outputs": [],
   "source": []
  }
 ],
 "metadata": {
  "kernelspec": {
   "display_name": "mantid_env",
   "language": "python",
   "name": "python3"
  },
  "language_info": {
   "codemirror_mode": {
    "name": "ipython",
    "version": 3
   },
   "file_extension": ".py",
   "mimetype": "text/x-python",
   "name": "python",
   "nbconvert_exporter": "python",
   "pygments_lexer": "ipython3",
   "version": "3.10.15"
  }
 },
 "nbformat": 4,
 "nbformat_minor": 2
}
